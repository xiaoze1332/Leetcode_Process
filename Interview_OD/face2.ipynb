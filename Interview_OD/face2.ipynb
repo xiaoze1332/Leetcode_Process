{
 "cells": [
  {
   "cell_type": "code",
   "execution_count": 18,
   "metadata": {},
   "outputs": [],
   "source": [
    "# 题目：\n",
    "# 输入一排数据,代表山峰的高度,从1-N代表N座山峰每座山上都有个人,\n",
    "# 奇数号往左看,偶数号往右看,高的山及等高的山会严格遮挡住后面矮的山,求所有人能看到的山的数量和\n",
    "\n",
    "# 输入【5,6,4,1,7,20,1】\n",
    "\n",
    "# 输出：11\n",
    "\n",
    "# 解释：各个位置能看到的山峰数量：[0, 3, 1, 2, 3, 1, 1]"
   ]
  },
  {
   "cell_type": "code",
   "execution_count": 19,
   "metadata": {},
   "outputs": [],
   "source": [
    "input = [5,6,4,1,7,20,1]\n",
    "# output = [0, 3, 1, 2, 3, 1, 1]"
   ]
  },
  {
   "cell_type": "code",
   "execution_count": 28,
   "metadata": {},
   "outputs": [],
   "source": [
    "def mountain(input):\n",
    "    # use index as mountain height, value as mountain height\n",
    "    # odd see left, even see right\n",
    "    # high mountain and equal height will block low mountain\n",
    "    # return the sum of all mountain count\n",
    "    # return the list that each position can see count of mountain\n",
    "    if len(input) == 0:\n",
    "        return 0\n",
    "    else:\n",
    "        output = [0] * len(input)\n",
    "        for i in range(len(input)):\n",
    "            if i % 2 == 0:\n",
    "                # odd see left\n",
    "                for j in range(i):\n",
    "                    if input[j] > input[i]:\n",
    "                        output[i] += 1\n",
    "            else:\n",
    "                # even see right\n",
    "                for j in range(i+1, len(input)):\n",
    "                    if input[j] > input[i]:\n",
    "                        output[i] += 1\n",
    "        return sum(output)"
   ]
  },
  {
   "cell_type": "code",
   "execution_count": 29,
   "metadata": {},
   "outputs": [
    {
     "data": {
      "text/plain": [
       "11"
      ]
     },
     "execution_count": 29,
     "metadata": {},
     "output_type": "execute_result"
    }
   ],
   "source": [
    "mountain(input)"
   ]
  },
  {
   "cell_type": "code",
   "execution_count": 37,
   "metadata": {},
   "outputs": [],
   "source": [
    "test = [6, 8 ,2,10,0,9, 15]"
   ]
  },
  {
   "cell_type": "code",
   "execution_count": 38,
   "metadata": {},
   "outputs": [
    {
     "data": {
      "text/plain": [
       "11"
      ]
     },
     "execution_count": 38,
     "metadata": {},
     "output_type": "execute_result"
    }
   ],
   "source": [
    "mountain(test)"
   ]
  },
  {
   "cell_type": "code",
   "execution_count": null,
   "metadata": {},
   "outputs": [],
   "source": []
  }
 ],
 "metadata": {
  "kernelspec": {
   "display_name": "Python 3",
   "language": "python",
   "name": "python3"
  },
  "language_info": {
   "codemirror_mode": {
    "name": "ipython",
    "version": 3
   },
   "file_extension": ".py",
   "mimetype": "text/x-python",
   "name": "python",
   "nbconvert_exporter": "python",
   "pygments_lexer": "ipython3",
   "version": "3.11.1"
  },
  "orig_nbformat": 4,
  "vscode": {
   "interpreter": {
    "hash": "a3ebcf16c348bf5d9574952e87cd8ff8cf5939ca16141adc6ffb3411f8d32f96"
   }
  }
 },
 "nbformat": 4,
 "nbformat_minor": 2
}
