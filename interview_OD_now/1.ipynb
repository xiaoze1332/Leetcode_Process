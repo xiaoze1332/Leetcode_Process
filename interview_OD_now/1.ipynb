{
 "cells": [
  {
   "cell_type": "code",
   "execution_count": 41,
   "metadata": {},
   "outputs": [],
   "source": [
    "sam, volun = 5, 3\n",
    "\n",
    "speed_list = [250, 210, 200, 150, 100]\n",
    "\n",
    "max_update = 3"
   ]
  },
  {
   "cell_type": "code",
   "execution_count": 42,
   "metadata": {},
   "outputs": [
    {
     "name": "stdout",
     "output_type": "stream",
     "text": [
      "860\n"
     ]
    }
   ],
   "source": [
    "if sam == volun:\n",
    "    print(sum(speed_list))\n",
    "elif sam < volun:\n",
    "    speed_list = sorted(speed_list, reverse=True)\n",
    "    #print(speed_list)\n",
    "\n",
    "    tmp = volun - sam\n",
    "\n",
    "    if tmp > max_update:\n",
    "        tmp_a = tmp // 3\n",
    "        tmp_b = tmp % 3\n",
    "    else:\n",
    "        tmp_a = 0\n",
    "        tmp_b = tmp\n",
    "\n",
    "    for i in range(len(speed_list)):\n",
    "        update = int(speed_list[i] * 0.1)\n",
    "        if tmp_a > 0:\n",
    "            speed_list[i] = speed_list[i] + 3 * update\n",
    "            tmp_a -= 1\n",
    "        elif tmp_a == 0 and tmp_b > 0:\n",
    "            speed_list[i] = speed_list[i] + tmp_b * update\n",
    "            break\n",
    "    print(sum(speed_list))\n",
    "else:\n",
    "    speed_list = sorted(speed_list)\n",
    "\n",
    "    tmp = sam - volun\n",
    "\n",
    "    for i in range(tmp):\n",
    "        speed_list[i] = speed_list[i] - 2 * int(speed_list[i] * 0.1)\n",
    "    \n",
    "    print(sum(speed_list))"
   ]
  },
  {
   "cell_type": "code",
   "execution_count": null,
   "metadata": {},
   "outputs": [],
   "source": []
  }
 ],
 "metadata": {
  "kernelspec": {
   "display_name": "Python 3.9.12 ('base')",
   "language": "python",
   "name": "python3"
  },
  "language_info": {
   "codemirror_mode": {
    "name": "ipython",
    "version": 3
   },
   "file_extension": ".py",
   "mimetype": "text/x-python",
   "name": "python",
   "nbconvert_exporter": "python",
   "pygments_lexer": "ipython3",
   "version": "3.9.12"
  },
  "orig_nbformat": 4,
  "vscode": {
   "interpreter": {
    "hash": "ad2bdc8ecc057115af97d19610ffacc2b4e99fae6737bb82f5d7fb13d2f2c186"
   }
  }
 },
 "nbformat": 4,
 "nbformat_minor": 2
}
