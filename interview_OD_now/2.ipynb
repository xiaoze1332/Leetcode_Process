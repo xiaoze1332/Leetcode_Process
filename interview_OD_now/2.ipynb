{
 "cells": [
  {
   "cell_type": "code",
   "execution_count": 17,
   "metadata": {},
   "outputs": [],
   "source": [
    "taskA, taskB, num = 2, 5, 10\n",
    "res = 0\n",
    "res_list = []"
   ]
  },
  {
   "cell_type": "code",
   "execution_count": 18,
   "metadata": {},
   "outputs": [
    {
     "name": "stdout",
     "output_type": "stream",
     "text": [
      "[20, 23, 26, 29, 32, 35, 38, 41, 44, 47, 50]\n"
     ]
    }
   ],
   "source": [
    "if num == 0:\n",
    "    print([0])\n",
    "elif num == 1:\n",
    "    print(sorted([taskA, taskB]))\n",
    "else:\n",
    "    for i in range(num+1):\n",
    "        res = i * taskA + (num-i) * taskB\n",
    "        res_list.append(res)\n",
    "    res_list = sorted(list(set(res_list)))\n",
    "    print(res_list)"
   ]
  },
  {
   "cell_type": "code",
   "execution_count": 19,
   "metadata": {},
   "outputs": [
    {
     "name": "stdout",
     "output_type": "stream",
     "text": [
      "[20, 23, 26, 29, 32, 35, 38, 41, 44, 47, 50]\n"
     ]
    }
   ],
   "source": [
    "for i in range(num+1):\n",
    "    res = i * taskA + (num-i) * taskB\n",
    "    res_list.append(res)\n",
    "\n",
    "#res_list = sorted(list(set(res_list)))\n",
    "res_list = sorted(set(res_list))\n",
    "\n",
    "print(res_list)"
   ]
  },
  {
   "cell_type": "code",
   "execution_count": null,
   "metadata": {},
   "outputs": [],
   "source": []
  }
 ],
 "metadata": {
  "kernelspec": {
   "display_name": "Python 3.9.12 ('base')",
   "language": "python",
   "name": "python3"
  },
  "language_info": {
   "codemirror_mode": {
    "name": "ipython",
    "version": 3
   },
   "file_extension": ".py",
   "mimetype": "text/x-python",
   "name": "python",
   "nbconvert_exporter": "python",
   "pygments_lexer": "ipython3",
   "version": "3.9.12"
  },
  "orig_nbformat": 4,
  "vscode": {
   "interpreter": {
    "hash": "ad2bdc8ecc057115af97d19610ffacc2b4e99fae6737bb82f5d7fb13d2f2c186"
   }
  }
 },
 "nbformat": 4,
 "nbformat_minor": 2
}
