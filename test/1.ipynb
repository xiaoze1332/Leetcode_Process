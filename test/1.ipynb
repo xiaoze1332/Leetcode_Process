{
 "cells": [
  {
   "cell_type": "code",
   "execution_count": 1,
   "metadata": {},
   "outputs": [],
   "source": [
    "input = [8, 9, 2, 5, 4, 7, 1]"
   ]
  },
  {
   "cell_type": "code",
   "execution_count": 4,
   "metadata": {},
   "outputs": [],
   "source": [
    "def maxProfit(prices):\n",
    "    # prices[i] 代表每天的股票价格\n",
    "    # 返回买卖的最大利润\n",
    "    # 可以多次购买和卖出，但是买入之前必须卖出\n",
    "\n",
    "    # 1. 暴力法 \n",
    "    # 2. 贪心算法\n",
    "    # 3. 动态规划\n",
    "    \n",
    "    # 动态规划法\n",
    "\n",
    "    dp = [[0, 0] for _ in range(len(prices))]\n",
    "    dp[0][0] = 0\n",
    "    dp[0][1] = -prices[0]\n",
    "    for i in range(1, len(prices)):\n",
    "        dp[i][0] = max(dp[i-1][0], dp[i-1][1] + prices[i])\n",
    "        dp[i][1] = max(dp[i-1][1], dp[i-1][0] - prices[i])\n",
    "    return dp[-1][0]\n"
   ]
  },
  {
   "cell_type": "code",
   "execution_count": null,
   "metadata": {},
   "outputs": [],
   "source": [
    "def maxProfit(prices):\n",
    "    # DP\n",
    "    dp = [[0, 0] for _ in range(len(prices))]\n",
    "    dp[0][0] = 0\n",
    "    dp[0][1] = -prices[0]\n",
    "\n",
    "    for i in range(1, len(prices)):\n",
    "        dp[i][0] = max(dp[i-1][0], dp[i-1][1] + prices[i])\n",
    "        dp[i][1] = max(dp[i-1][1], dp[i-1][0] - prices[i])\n",
    "        \n",
    "    return dp[-1][0]\n"
   ]
  },
  {
   "cell_type": "code",
   "execution_count": 5,
   "metadata": {},
   "outputs": [
    {
     "data": {
      "text/plain": [
       "7"
      ]
     },
     "execution_count": 5,
     "metadata": {},
     "output_type": "execute_result"
    }
   ],
   "source": [
    "maxProfit(input)"
   ]
  },
  {
   "cell_type": "code",
   "execution_count": null,
   "metadata": {},
   "outputs": [],
   "source": []
  }
 ],
 "metadata": {
  "kernelspec": {
   "display_name": "Python 3",
   "language": "python",
   "name": "python3"
  },
  "language_info": {
   "codemirror_mode": {
    "name": "ipython",
    "version": 3
   },
   "file_extension": ".py",
   "mimetype": "text/x-python",
   "name": "python",
   "nbconvert_exporter": "python",
   "pygments_lexer": "ipython3",
   "version": "3.11.1"
  },
  "orig_nbformat": 4
 },
 "nbformat": 4,
 "nbformat_minor": 2
}
