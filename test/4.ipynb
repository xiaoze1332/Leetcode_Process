{
 "cells": [
  {
   "cell_type": "code",
   "execution_count": 1,
   "metadata": {},
   "outputs": [],
   "source": [
    "# 给定一个包含0，1的二维数组，找到最大的由1组成的正方形，并返回其面积。\n",
    "# 例如：\n",
    "# 输入：\n",
    "#[[1,0,1,0,0],[1,1,1,1,0],[1,1,1,1,1],[1,0,0,1,0]]\n",
    "# 输出：4"
   ]
  },
  {
   "cell_type": "code",
   "execution_count": 2,
   "metadata": {},
   "outputs": [],
   "source": [
    "# 1. 暴力法\n",
    "# 2. 动态规划"
   ]
  },
  {
   "cell_type": "code",
   "execution_count": 3,
   "metadata": {},
   "outputs": [],
   "source": [
    "def maximalRectangle(matrix):\n",
    "    # DP\n",
    "    if not matrix:\n",
    "        return 0\n",
    "\n",
    "    # dp[i][j] 表示以 (i, j) 为右下角，且只包含 1 的正方形的边长最大值\n",
    "    m, n = len(matrix), len(matrix[0])\n",
    "    dp = [[0] * n for _ in range(m)]\n",
    "\n",
    "    # 初始化第一行, 第一列\n",
    "    for i in range(m):\n",
    "        for j in range(n):\n",
    "            if matrix[i][j] == '1':\n",
    "                dp[i][j] = dp[i][j - 1] + 1 if j else 1\n",
    "                # print(dp[i][j])\n",
    "\n",
    "    # 动态规划计算每个位置的最大正方形边长\n",
    "    res = 0\n",
    "    for i in range(m):\n",
    "        for j in range(n):\n",
    "            if dp[i][j]:\n",
    "                width = dp[i][j]\n",
    "                area = width\n",
    "                for k in range(i - 1, -1, -1):\n",
    "                    width = min(width, dp[k][j])\n",
    "                    area = max(area, (i - k + 1) * width)\n",
    "                res = max(res, area)\n",
    "                # print(res)\n",
    "    return res"
   ]
  },
  {
   "cell_type": "code",
   "execution_count": 5,
   "metadata": {},
   "outputs": [
    {
     "ename": "NameError",
     "evalue": "name 'List' is not defined",
     "output_type": "error",
     "traceback": [
      "\u001b[1;31m---------------------------------------------------------------------------\u001b[0m",
      "\u001b[1;31mNameError\u001b[0m                                 Traceback (most recent call last)",
      "Cell \u001b[1;32mIn[5], line 1\u001b[0m\n\u001b[1;32m----> 1\u001b[0m \u001b[39mclass\u001b[39;49;00m \u001b[39mSolution\u001b[39;49;00m:\n\u001b[0;32m      2\u001b[0m     \u001b[39mdef\u001b[39;49;00m \u001b[39mmaximalRectangle\u001b[39;49m(\u001b[39mself\u001b[39;49m , matrix: List[List[\u001b[39mint\u001b[39;49m]]) \u001b[39m-\u001b[39;49m\u001b[39m>\u001b[39;49m \u001b[39mint\u001b[39;49m:\n\u001b[0;32m      3\u001b[0m         \u001b[39m# DP\u001b[39;49;00m\n\u001b[0;32m      4\u001b[0m         \u001b[39mif\u001b[39;49;00m \u001b[39mnot\u001b[39;49;00m matrix:\n",
      "Cell \u001b[1;32mIn[5], line 2\u001b[0m, in \u001b[0;36mSolution\u001b[1;34m()\u001b[0m\n\u001b[0;32m      1\u001b[0m \u001b[39mclass\u001b[39;00m \u001b[39mSolution\u001b[39;00m:\n\u001b[1;32m----> 2\u001b[0m     \u001b[39mdef\u001b[39;00m \u001b[39mmaximalRectangle\u001b[39m(\u001b[39mself\u001b[39m , matrix: List[List[\u001b[39mint\u001b[39m]]) \u001b[39m-\u001b[39m\u001b[39m>\u001b[39m \u001b[39mint\u001b[39m:\n\u001b[0;32m      3\u001b[0m         \u001b[39m# DP\u001b[39;00m\n\u001b[0;32m      4\u001b[0m         \u001b[39mif\u001b[39;00m \u001b[39mnot\u001b[39;00m matrix:\n\u001b[0;32m      5\u001b[0m             \u001b[39mreturn\u001b[39;00m \u001b[39m0\u001b[39m\n",
      "\u001b[1;31mNameError\u001b[0m: name 'List' is not defined"
     ]
    }
   ],
   "source": [
    "class Solution:\n",
    "    def maximalRectangle(self , matrix: List[List[int]]) -> int:\n",
    "        # DP\n",
    "        if not matrix:\n",
    "            return 0\n",
    "        \n",
    "        # dp[i][j] 表示以 (i, j) 为右下角，且只包含 1 的正方形的边长最大值\n",
    "        m, n = len(matrix), len(matrix[0])\n",
    "        dp = [[0] * n for _ in range(m)]\n",
    "\n",
    "        # 初始化第一行, 第一列\n",
    "        for i in range(m):\n",
    "            for j in range(n):\n",
    "                if matrix[i][j] == '1':\n",
    "                    dp[i][j] = dp[i][j - 1] + 1 if j else 1\n",
    "                    # print(dp[i][j])\n",
    "\n",
    "        # 动态规划计算每个位置的最大正方形边长\n",
    "        res = 0\n",
    "        for i in range(m):\n",
    "            for j in range(n):\n",
    "                if dp[i][j]:\n",
    "                    width = dp[i][j]\n",
    "                    area = width\n",
    "                    for k in range(i - 1, -1, -1):\n",
    "                        width = min(width, dp[k][j])\n",
    "                        area = max(area, (i - k + 1) * width)\n",
    "                    res = max(res, area)\n",
    "                    # print(res)\n",
    "\n",
    "        return res"
   ]
  },
  {
   "cell_type": "code",
   "execution_count": 4,
   "metadata": {},
   "outputs": [
    {
     "data": {
      "text/plain": [
       "8"
      ]
     },
     "execution_count": 4,
     "metadata": {},
     "output_type": "execute_result"
    }
   ],
   "source": [
    "maximalRectangle([[\"1\",\"0\",\"1\",\"0\",\"0\"],[\"1\",\"1\",\"1\",\"1\",\"0\"],[\"1\",\"1\",\"1\",\"1\",\"1\"],[\"1\",\"0\",\"0\",\"1\",\"0\"]])"
   ]
  },
  {
   "cell_type": "code",
   "execution_count": null,
   "metadata": {},
   "outputs": [],
   "source": []
  }
 ],
 "metadata": {
  "kernelspec": {
   "display_name": "Python 3",
   "language": "python",
   "name": "python3"
  },
  "language_info": {
   "codemirror_mode": {
    "name": "ipython",
    "version": 3
   },
   "file_extension": ".py",
   "mimetype": "text/x-python",
   "name": "python",
   "nbconvert_exporter": "python",
   "pygments_lexer": "ipython3",
   "version": "3.11.1"
  },
  "orig_nbformat": 4
 },
 "nbformat": 4,
 "nbformat_minor": 2
}
