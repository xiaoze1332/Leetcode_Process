{
 "cells": [
  {
   "cell_type": "code",
   "execution_count": 18,
   "metadata": {},
   "outputs": [],
   "source": [
    "# 最长回文子串\n",
    "# https://leetcode-cn.com/problems/longest-palindromic-substring/"
   ]
  },
  {
   "cell_type": "code",
   "execution_count": 19,
   "metadata": {},
   "outputs": [],
   "source": [
    "A = 'ababc'"
   ]
  },
  {
   "cell_type": "code",
   "execution_count": 20,
   "metadata": {},
   "outputs": [],
   "source": [
    "def getLongestPalindrome(A):\n",
    "    # DP\n",
    "\n",
    "    dp = [[0 for i in range(len(A))] for j in range(len(A))]\n",
    "    maxLen = 1\n",
    "\n",
    "    for i in range(len(A)):\n",
    "        dp[i][i] = 1\n",
    "        if i < len(A) - 1:\n",
    "            if A[i] == A[i+1]:\n",
    "                dp[i][i+1] = 1\n",
    "                maxLen = 2\n",
    "\n",
    "    for L in range(3, len(A) + 1):\n",
    "        for i in range(len(A) - L + 1):\n",
    "            j = i + L - 1\n",
    "            if A[i] == A[j] and dp[i+1][j-1] == 1:\n",
    "                dp[i][j] = 1\n",
    "                maxLen = L\n",
    "    return maxLen"
   ]
  },
  {
   "cell_type": "code",
   "execution_count": 21,
   "metadata": {},
   "outputs": [
    {
     "data": {
      "text/plain": [
       "3"
      ]
     },
     "execution_count": 21,
     "metadata": {},
     "output_type": "execute_result"
    }
   ],
   "source": [
    "getLongestPalindrome(A)"
   ]
  },
  {
   "cell_type": "code",
   "execution_count": null,
   "metadata": {},
   "outputs": [],
   "source": []
  }
 ],
 "metadata": {
  "kernelspec": {
   "display_name": "Python 3",
   "language": "python",
   "name": "python3"
  },
  "language_info": {
   "codemirror_mode": {
    "name": "ipython",
    "version": 3
   },
   "file_extension": ".py",
   "mimetype": "text/x-python",
   "name": "python",
   "nbconvert_exporter": "python",
   "pygments_lexer": "ipython3",
   "version": "3.11.1"
  },
  "orig_nbformat": 4
 },
 "nbformat": 4,
 "nbformat_minor": 2
}
