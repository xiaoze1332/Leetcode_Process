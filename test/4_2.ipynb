{
 "cells": [
  {
   "cell_type": "code",
   "execution_count": 1,
   "metadata": {},
   "outputs": [
    {
     "ename": "NameError",
     "evalue": "name 'List' is not defined",
     "output_type": "error",
     "traceback": [
      "\u001b[1;31m---------------------------------------------------------------------------\u001b[0m",
      "\u001b[1;31mNameError\u001b[0m                                 Traceback (most recent call last)",
      "Cell \u001b[1;32mIn[1], line 1\u001b[0m\n\u001b[1;32m----> 1\u001b[0m \u001b[39mclass\u001b[39;49;00m \u001b[39mSolution\u001b[39;49;00m:\n\u001b[0;32m      2\u001b[0m     \u001b[39mdef\u001b[39;49;00m \u001b[39mmaximalRectangle\u001b[39;49m(\u001b[39mself\u001b[39;49m , matrix: List[List[\u001b[39mint\u001b[39;49m]]) \u001b[39m-\u001b[39;49m\u001b[39m>\u001b[39;49m \u001b[39mint\u001b[39;49m:\n\u001b[0;32m      3\u001b[0m         \u001b[39m# 给定一个仅包含 0 和 1 的二维二进制矩阵，找出只包含 1 的最大矩形，并返回其面积。\u001b[39;49;00m\n\u001b[0;32m      4\u001b[0m \n\u001b[0;32m      5\u001b[0m         \u001b[39m# 动态规划\u001b[39;49;00m\n\u001b[0;32m      7\u001b[0m         dp \u001b[39m=\u001b[39;49m [[\u001b[39m0\u001b[39;49m \u001b[39mfor\u001b[39;49;00m _ \u001b[39min\u001b[39;49;00m \u001b[39mrange\u001b[39;49m(\u001b[39mlen\u001b[39;49m(matrix[\u001b[39m0\u001b[39;49m]))] \u001b[39mfor\u001b[39;49;00m _ \u001b[39min\u001b[39;49;00m \u001b[39mrange\u001b[39;49m(\u001b[39mlen\u001b[39;49m(matrix))]\n",
      "Cell \u001b[1;32mIn[1], line 2\u001b[0m, in \u001b[0;36mSolution\u001b[1;34m()\u001b[0m\n\u001b[0;32m      1\u001b[0m \u001b[39mclass\u001b[39;00m \u001b[39mSolution\u001b[39;00m:\n\u001b[1;32m----> 2\u001b[0m     \u001b[39mdef\u001b[39;00m \u001b[39mmaximalRectangle\u001b[39m(\u001b[39mself\u001b[39m , matrix: List[List[\u001b[39mint\u001b[39m]]) \u001b[39m-\u001b[39m\u001b[39m>\u001b[39m \u001b[39mint\u001b[39m:\n\u001b[0;32m      3\u001b[0m         \u001b[39m# 给定一个仅包含 0 和 1 的二维二进制矩阵，找出只包含 1 的最大矩形，并返回其面积。\u001b[39;00m\n\u001b[0;32m      4\u001b[0m \n\u001b[0;32m      5\u001b[0m         \u001b[39m# 动态规划\u001b[39;00m\n\u001b[0;32m      7\u001b[0m         dp \u001b[39m=\u001b[39m [[\u001b[39m0\u001b[39m \u001b[39mfor\u001b[39;00m _ \u001b[39min\u001b[39;00m \u001b[39mrange\u001b[39m(\u001b[39mlen\u001b[39m(matrix[\u001b[39m0\u001b[39m]))] \u001b[39mfor\u001b[39;00m _ \u001b[39min\u001b[39;00m \u001b[39mrange\u001b[39m(\u001b[39mlen\u001b[39m(matrix))]\n\u001b[0;32m      8\u001b[0m         \u001b[39mfor\u001b[39;00m i \u001b[39min\u001b[39;00m \u001b[39mrange\u001b[39m(\u001b[39mlen\u001b[39m(matrix)):\n",
      "\u001b[1;31mNameError\u001b[0m: name 'List' is not defined"
     ]
    }
   ],
   "source": [
    "class Solution:\n",
    "    def maximalRectangle(self , matrix: List[List[int]]) -> int:\n",
    "        # 给定一个仅包含 0 和 1 的二维二进制矩阵，找出只包含 1 的最大矩形，并返回其面积。\n",
    "\n",
    "        # 动态规划\n",
    "        \n",
    "        dp = [[0 for _ in range(len(matrix[0]))] for _ in range(len(matrix))]\n",
    "        for i in range(len(matrix)):\n",
    "            for j in range(len(matrix[0])):\n",
    "                if matrix[i][j] == 1:\n",
    "                    dp[i][j] = dp[i][j-1] + 1 if j > 0 else 1\n",
    "        res = 0\n",
    "        for i in range(len(matrix)):\n",
    "            for j in range(len(matrix[0])):\n",
    "                if matrix[i][j] == 1:\n",
    "                    width = dp[i][j]\n",
    "                    for k in range(i, -1, -1):\n",
    "                        width = min(width, dp[k][j])\n",
    "                        res = max(res, width * (i - k + 1))\n",
    "        return res"
   ]
  },
  {
   "cell_type": "code",
   "execution_count": null,
   "metadata": {},
   "outputs": [],
   "source": [
    "class Solution:\n",
    "    def maximalRectangle(self , matrix: List[List[int]]) -> int:\n",
    "\n",
    "        dp = [[0 for _ in range(len(matrix[0]))] for _ in range(len(matrix))]\n",
    "        for i in range(len(matrix)):\n",
    "            for j in range(len(matrix[0])):\n",
    "                if matrix[i][j] == 1:\n",
    "                    dp[i][j] = dp[i][j-1] + 1 if j > 0 else 1\n",
    "                    \n",
    "        res = 0\n",
    "        for i in range(len(matrix)):\n",
    "            for j in range(len(matrix[0])):\n",
    "                if matrix[i][j] == 1:\n",
    "                    width = dp[i][j]\n",
    "                    for k in range(i, -1, -1):\n",
    "                        width = min(width, dp[k][j])\n",
    "                        res = max(res, width * (i - k + 1))\n",
    "        return res"
   ]
  }
 ],
 "metadata": {
  "kernelspec": {
   "display_name": "Python 3",
   "language": "python",
   "name": "python3"
  },
  "language_info": {
   "codemirror_mode": {
    "name": "ipython",
    "version": 3
   },
   "file_extension": ".py",
   "mimetype": "text/x-python",
   "name": "python",
   "nbconvert_exporter": "python",
   "pygments_lexer": "ipython3",
   "version": "3.11.1"
  },
  "orig_nbformat": 4
 },
 "nbformat": 4,
 "nbformat_minor": 2
}
