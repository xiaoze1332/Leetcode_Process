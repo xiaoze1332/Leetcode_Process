{
 "cells": [
  {
   "cell_type": "code",
   "execution_count": 1,
   "metadata": {},
   "outputs": [],
   "source": [
    "digits = \"23\""
   ]
  },
  {
   "cell_type": "code",
   "execution_count": 14,
   "metadata": {},
   "outputs": [],
   "source": [
    "def letterCombinations(digits: str):\n",
    "    # create a dictionary to store the mapping of each digit to its corresponding letters\n",
    "    digit_to_letters = {\n",
    "        \"2\": \"abc\",\n",
    "        \"3\": \"def\",\n",
    "        \"4\": \"ghi\",\n",
    "        \"5\": \"jkl\",\n",
    "        \"6\": \"mno\",\n",
    "        \"7\": \"pqrs\",\n",
    "        \"8\": \"tuv\",\n",
    "        \"9\": \"wxyz\"\n",
    "    }\n",
    "\n",
    "    # create a list to store the tmp list of letters\n",
    "    tmp = []\n",
    "    for i in digits:\n",
    "        tmp.append(digit_to_letters[i])\n",
    "    # check if the digits is empty\n",
    "    #print(tmp)  ['abc', 'def']\n",
    "\n",
    "    # create a 2-D list to store the combination of letters\n",
    "    combination = []\n",
    "    for i in tmp:\n",
    "        combination.append(list(i))\n",
    "    #print(combination)  #[['a', 'b', 'c'], ['d', 'e', 'f']]\n",
    "\n",
    "    # create a list to store the final result\n",
    "    result = []\n",
    "    for i in range(len(combination)):\n",
    "        if i == 0:\n",
    "            result = combination[i]\n",
    "        else:\n",
    "            result = [x + y for x in result for y in combination[i]]\n",
    "    return result"
   ]
  },
  {
   "cell_type": "code",
   "execution_count": 15,
   "metadata": {},
   "outputs": [
    {
     "data": {
      "text/plain": [
       "['ad', 'ae', 'af', 'bd', 'be', 'bf', 'cd', 'ce', 'cf']"
      ]
     },
     "execution_count": 15,
     "metadata": {},
     "output_type": "execute_result"
    }
   ],
   "source": [
    "letterCombinations(digits)"
   ]
  },
  {
   "cell_type": "code",
   "execution_count": 2,
   "metadata": {},
   "outputs": [
    {
     "data": {
      "text/plain": [
       "['_', '_']"
      ]
     },
     "execution_count": 2,
     "metadata": {},
     "output_type": "execute_result"
    }
   ],
   "source": [
    "['_' for i in range(len(digits))]"
   ]
  },
  {
   "cell_type": "code",
   "execution_count": null,
   "metadata": {},
   "outputs": [],
   "source": []
  }
 ],
 "metadata": {
  "kernelspec": {
   "display_name": "Python 3",
   "language": "python",
   "name": "python3"
  },
  "language_info": {
   "codemirror_mode": {
    "name": "ipython",
    "version": 3
   },
   "file_extension": ".py",
   "mimetype": "text/x-python",
   "name": "python",
   "nbconvert_exporter": "python",
   "pygments_lexer": "ipython3",
   "version": "3.11.1"
  },
  "orig_nbformat": 4,
  "vscode": {
   "interpreter": {
    "hash": "a3ebcf16c348bf5d9574952e87cd8ff8cf5939ca16141adc6ffb3411f8d32f96"
   }
  }
 },
 "nbformat": 4,
 "nbformat_minor": 2
}
