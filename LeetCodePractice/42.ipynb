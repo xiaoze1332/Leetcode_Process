{
 "cells": [
  {
   "cell_type": "code",
   "execution_count": null,
   "metadata": {},
   "outputs": [],
   "source": [
    "class Solution:\n",
    "    def trap(self, height: List[int]) -> int:\n",
    "\n",
    "        # judge is height is empty\n",
    "        if not height:\n",
    "            return 0\n",
    "        \n",
    "        # get the length of height\n",
    "        n = len(height)\n",
    "\n",
    "        # initialize the left and right array\n",
    "        left = [0] * n\n",
    "        right = [0] * n\n",
    "\n",
    "        # initialize the left_max and right_max\n",
    "        left_max = 0\n",
    "        right_max = 0\n",
    "\n",
    "        sum = 0\n",
    "\n",
    "        # calculate the left array\n",
    "        for i in range(n):\n",
    "            left[i] = left_max\n",
    "            left_max = max(left_max, height[i])\n",
    "\n",
    "        # calculate the right array\n",
    "        for i in range(n-1, -1, -1):\n",
    "            right[i] = right_max\n",
    "            right_max = max(right_max, height[i])\n",
    "\n",
    "        # calculate the sum\n",
    "        for i in range(n):\n",
    "            sum += max(0, min(left[i], right[i]) - height[i])\n",
    "\n",
    "        return sum"
   ]
  }
 ],
 "metadata": {
  "language_info": {
   "name": "python"
  },
  "orig_nbformat": 4
 },
 "nbformat": 4,
 "nbformat_minor": 2
}
