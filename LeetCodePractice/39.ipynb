{
 "cells": [
  {
   "cell_type": "code",
   "execution_count": null,
   "metadata": {},
   "outputs": [],
   "source": [
    "candidates = [2,3,6,7]\n",
    "target = 7"
   ]
  },
  {
   "cell_type": "code",
   "execution_count": null,
   "metadata": {},
   "outputs": [],
   "source": [
    "class Solution:\n",
    "    def combinationSum(self, candidates: List[int], target: int) -> List[List[int]]:\n",
    "        # 回溯法\n",
    "        # input: [2,3,6,7], 7\n",
    "        # output: [[2,2,3],[7]]\n",
    "\n",
    "        res = []\n",
    "\n",
    "        def backtrack(candidates, target, tmp):\n",
    "            '''\n",
    "            input: \n",
    "                candidates: 剩余的候选数\n",
    "                target: 剩余的目标值\n",
    "                tmp: 当前的组合\n",
    "            '''\n",
    "            if target == 0:\n",
    "                res.append(tmp)\n",
    "                return\n",
    "            if target < 0:\n",
    "                return\n",
    "            for i in range(len(candidates)):\n",
    "                backtrack(candidates[i:], target-candidates[i], tmp+[candidates[i]])\n",
    "\n",
    "        backtrack(candidates, target, [])\n",
    "        return res"
   ]
  },
  {
   "cell_type": "code",
   "execution_count": null,
   "metadata": {},
   "outputs": [],
   "source": []
  },
  {
   "cell_type": "code",
   "execution_count": null,
   "metadata": {},
   "outputs": [],
   "source": []
  }
 ],
 "metadata": {
  "kernelspec": {
   "display_name": "Python 3",
   "language": "python",
   "name": "python3"
  },
  "language_info": {
   "codemirror_mode": {
    "name": "ipython",
    "version": 3
   },
   "file_extension": ".py",
   "mimetype": "text/x-python",
   "name": "python",
   "nbconvert_exporter": "python",
   "pygments_lexer": "ipython3",
   "version": "3.11.1"
  },
  "orig_nbformat": 4
 },
 "nbformat": 4,
 "nbformat_minor": 2
}
