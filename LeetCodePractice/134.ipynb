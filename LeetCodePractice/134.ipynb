{
 "cells": [
  {
   "cell_type": "code",
   "execution_count": 1,
   "metadata": {},
   "outputs": [],
   "source": [
    "gas = [1,2,3,4,5]\n",
    "cost = [3,4,5,1,2]"
   ]
  },
  {
   "cell_type": "code",
   "execution_count": 2,
   "metadata": {},
   "outputs": [],
   "source": [
    "def test_gas_station(gas, cost):\n",
    "    if sum(gas) < sum(cost):\n",
    "        return -1\n",
    "    else:\n",
    "        start = 0\n",
    "        tank = 0\n",
    "        for i in range(len(gas)):\n",
    "            tank += gas[i] - cost[i]\n",
    "            if tank < 0:\n",
    "                start = i + 1\n",
    "                tank = 0\n",
    "        return start"
   ]
  },
  {
   "cell_type": "code",
   "execution_count": 3,
   "metadata": {},
   "outputs": [
    {
     "data": {
      "text/plain": [
       "3"
      ]
     },
     "execution_count": 3,
     "metadata": {},
     "output_type": "execute_result"
    }
   ],
   "source": [
    "test_gas_station(gas, cost)"
   ]
  },
  {
   "cell_type": "code",
   "execution_count": null,
   "metadata": {},
   "outputs": [],
   "source": []
  }
 ],
 "metadata": {
  "kernelspec": {
   "display_name": "Python 3",
   "language": "python",
   "name": "python3"
  },
  "language_info": {
   "codemirror_mode": {
    "name": "ipython",
    "version": 3
   },
   "file_extension": ".py",
   "mimetype": "text/x-python",
   "name": "python",
   "nbconvert_exporter": "python",
   "pygments_lexer": "ipython3",
   "version": "3.11.1"
  },
  "orig_nbformat": 4,
  "vscode": {
   "interpreter": {
    "hash": "a3ebcf16c348bf5d9574952e87cd8ff8cf5939ca16141adc6ffb3411f8d32f96"
   }
  }
 },
 "nbformat": 4,
 "nbformat_minor": 2
}
