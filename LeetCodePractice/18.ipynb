{
 "cells": [
  {
   "cell_type": "code",
   "execution_count": 1,
   "metadata": {},
   "outputs": [],
   "source": [
    "nums = [1,0,-1,0,-2,2]\n",
    "target = 0"
   ]
  },
  {
   "cell_type": "code",
   "execution_count": 3,
   "metadata": {},
   "outputs": [],
   "source": [
    "def fourSum(nums, target):\n",
    "    nums.sort()\n",
    "    res = []\n",
    "\n",
    "    for i in range(len(nums)-3):\n",
    "        for j in range(i+1, len(nums)-2):\n",
    "            k = j+1\n",
    "            l = len(nums)-1\n",
    "\n",
    "            while k < l:\n",
    "                if nums[i]+nums[j]+nums[k]+nums[l] == target:\n",
    "                    res.append([nums[i], nums[j], nums[k], nums[l]])\n",
    "                    k += 1\n",
    "                    l -= 1\n",
    "                elif nums[i]+nums[j]+nums[k]+nums[l] < target:\n",
    "                    k += 1\n",
    "                else:\n",
    "                    l -= 1\n",
    "\n",
    "    # remove duplicate\n",
    "    res = list(set([tuple(t) for t in res]))\n",
    "\n",
    "    return res"
   ]
  },
  {
   "cell_type": "code",
   "execution_count": 4,
   "metadata": {},
   "outputs": [
    {
     "data": {
      "text/plain": [
       "[[-2, -1, 1, 2], [-2, 0, 0, 2], [-1, 0, 0, 1]]"
      ]
     },
     "execution_count": 4,
     "metadata": {},
     "output_type": "execute_result"
    }
   ],
   "source": [
    "fourSum(nums, target)"
   ]
  }
 ],
 "metadata": {
  "kernelspec": {
   "display_name": "Python 3",
   "language": "python",
   "name": "python3"
  },
  "language_info": {
   "codemirror_mode": {
    "name": "ipython",
    "version": 3
   },
   "file_extension": ".py",
   "mimetype": "text/x-python",
   "name": "python",
   "nbconvert_exporter": "python",
   "pygments_lexer": "ipython3",
   "version": "3.11.1"
  },
  "orig_nbformat": 4,
  "vscode": {
   "interpreter": {
    "hash": "a3ebcf16c348bf5d9574952e87cd8ff8cf5939ca16141adc6ffb3411f8d32f96"
   }
  }
 },
 "nbformat": 4,
 "nbformat_minor": 2
}
