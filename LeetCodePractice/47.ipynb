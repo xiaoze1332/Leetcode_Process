{
 "cells": [
  {
   "cell_type": "code",
   "execution_count": 1,
   "metadata": {},
   "outputs": [
    {
     "ename": "NameError",
     "evalue": "name 'List' is not defined",
     "output_type": "error",
     "traceback": [
      "\u001b[1;31m---------------------------------------------------------------------------\u001b[0m",
      "\u001b[1;31mNameError\u001b[0m                                 Traceback (most recent call last)",
      "Cell \u001b[1;32mIn[1], line 1\u001b[0m\n\u001b[1;32m----> 1\u001b[0m \u001b[39mclass\u001b[39;49;00m \u001b[39mSolution\u001b[39;49;00m:\n\u001b[0;32m      2\u001b[0m     \u001b[39mdef\u001b[39;49;00m \u001b[39mpermuteUnique\u001b[39;49m(\u001b[39mself\u001b[39;49m, nums: List[\u001b[39mint\u001b[39;49m]) \u001b[39m-\u001b[39;49m\u001b[39m>\u001b[39;49m List[List[\u001b[39mint\u001b[39;49m]]:\n\u001b[0;32m      3\u001b[0m \n\u001b[0;32m      4\u001b[0m         \u001b[39m# define a trackback function\u001b[39;49;00m\n\u001b[0;32m      5\u001b[0m         \u001b[39mdef\u001b[39;49;00m \u001b[39mtrackback\u001b[39;49m(nums, track):\n",
      "Cell \u001b[1;32mIn[1], line 2\u001b[0m, in \u001b[0;36mSolution\u001b[1;34m()\u001b[0m\n\u001b[0;32m      1\u001b[0m \u001b[39mclass\u001b[39;00m \u001b[39mSolution\u001b[39;00m:\n\u001b[1;32m----> 2\u001b[0m     \u001b[39mdef\u001b[39;00m \u001b[39mpermuteUnique\u001b[39m(\u001b[39mself\u001b[39m, nums: List[\u001b[39mint\u001b[39m]) \u001b[39m-\u001b[39m\u001b[39m>\u001b[39m List[List[\u001b[39mint\u001b[39m]]:\n\u001b[0;32m      3\u001b[0m \n\u001b[0;32m      4\u001b[0m         \u001b[39m# define a trackback function\u001b[39;00m\n\u001b[0;32m      5\u001b[0m         \u001b[39mdef\u001b[39;00m \u001b[39mtrackback\u001b[39m(nums, track):\n\u001b[0;32m      6\u001b[0m             \u001b[39mif\u001b[39;00m \u001b[39mlen\u001b[39m(nums) \u001b[39m==\u001b[39m \u001b[39m0\u001b[39m:\n",
      "\u001b[1;31mNameError\u001b[0m: name 'List' is not defined"
     ]
    }
   ],
   "source": [
    "class Solution:\n",
    "    def permuteUnique(self, nums: List[int]) -> List[List[int]]:\n",
    "\n",
    "        # define a trackback function\n",
    "        def trackback(nums, track):\n",
    "            if len(nums) == 0:\n",
    "                res.append(track)\n",
    "                return\n",
    "            for i in range(len(nums)):\n",
    "                # if the number is the same as the previous one, skip it\n",
    "                if i > 0 and nums[i] == nums[i-1]:\n",
    "                    continue\n",
    "                # if the number is not the same as the previous one, add it to the track\n",
    "                # from the remaining numbers, add the track to the result\n",
    "                trackback(nums[:i]+nums[i+1:], track+[nums[i]])\n",
    "                print(nums[:i]+nums[i+1:], track+[nums[i]])\n",
    "\n",
    "        res = []\n",
    "        nums.sort()\n",
    "        trackback(nums, [])\n",
    "        return res"
   ]
  }
 ],
 "metadata": {
  "kernelspec": {
   "display_name": "Python 3",
   "language": "python",
   "name": "python3"
  },
  "language_info": {
   "codemirror_mode": {
    "name": "ipython",
    "version": 3
   },
   "file_extension": ".py",
   "mimetype": "text/x-python",
   "name": "python",
   "nbconvert_exporter": "python",
   "pygments_lexer": "ipython3",
   "version": "3.11.1"
  },
  "orig_nbformat": 4
 },
 "nbformat": 4,
 "nbformat_minor": 2
}
