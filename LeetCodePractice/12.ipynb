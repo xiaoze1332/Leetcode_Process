{
 "cells": [
  {
   "cell_type": "code",
   "execution_count": null,
   "metadata": {},
   "outputs": [],
   "source": [
    "class Solution:\n",
    "    def intToRoman(self, num: int) -> str:\n",
    "        roman = ''\n",
    "        roman += 'M' * (num // 1000)\n",
    "        num %= 1000\n",
    "        roman += 'CM' * (num // 900)\n",
    "        num %= 900\n",
    "        roman += 'D' * (num // 500)\n",
    "        num %= 500\n",
    "        roman += 'CD' * (num // 400)\n",
    "        num %= 400\n",
    "        roman += 'C' * (num // 100)\n",
    "        num %= 100\n",
    "        roman += 'XC' * (num // 90)\n",
    "        num %= 90\n",
    "        roman += 'L' * (num // 50)\n",
    "        num %= 50\n",
    "        roman += 'XL' * (num // 40)\n",
    "        num %= 40\n",
    "        roman += 'X' * (num // 10)\n",
    "        num %= 10\n",
    "        roman += 'IX' * (num // 9)\n",
    "        num %= 9\n",
    "        roman += 'V' * (num // 5)\n",
    "        num %= 5\n",
    "        roman += 'IV' * (num // 4)\n",
    "        num %= 4\n",
    "        roman += 'I' * (num // 1)\n",
    "        num %= 1\n",
    "        return roman"
   ]
  }
 ],
 "metadata": {
  "language_info": {
   "name": "python"
  },
  "orig_nbformat": 4
 },
 "nbformat": 4,
 "nbformat_minor": 2
}
