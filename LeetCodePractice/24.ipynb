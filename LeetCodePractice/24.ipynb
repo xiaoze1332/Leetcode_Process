{
 "cells": [
  {
   "cell_type": "code",
   "execution_count": 1,
   "metadata": {},
   "outputs": [],
   "source": [
    "# Definition for singly-linked list.\n",
    "class ListNode:\n",
    "    def __init__(self, val=0, next=None):\n",
    "        self.val = val\n",
    "        self.next = next"
   ]
  },
  {
   "cell_type": "code",
   "execution_count": 2,
   "metadata": {},
   "outputs": [],
   "source": [
    "head = [1,2,3,4]"
   ]
  },
  {
   "cell_type": "code",
   "execution_count": null,
   "metadata": {},
   "outputs": [],
   "source": [
    "def swapPairs(head):\n",
    "    if not head or not head.next:\n",
    "        return head\n",
    "    new_head = head.next\n",
    "    head.next = swapPairs(new_head.next)\n",
    "    new_head.next = head\n",
    "    return new_head"
   ]
  },
  {
   "cell_type": "code",
   "execution_count": null,
   "metadata": {},
   "outputs": [],
   "source": [
    "def swapPairs(head):\n",
    "    # fast and slow pointer\n",
    "    dummy = ListNode(0)\n",
    "    dummy.next = head\n",
    "    prev = dummy\n",
    "    while head and head.next:\n",
    "        first = head\n",
    "        second = head.next\n",
    "        prev.next = second\n",
    "        first.next = second.next\n",
    "        second.next = first\n",
    "        prev = first\n",
    "        head = first.next\n",
    "    return dummy.next"
   ]
  }
 ],
 "metadata": {
  "kernelspec": {
   "display_name": "Python 3",
   "language": "python",
   "name": "python3"
  },
  "language_info": {
   "codemirror_mode": {
    "name": "ipython",
    "version": 3
   },
   "file_extension": ".py",
   "mimetype": "text/x-python",
   "name": "python",
   "nbconvert_exporter": "python",
   "pygments_lexer": "ipython3",
   "version": "3.11.1"
  },
  "orig_nbformat": 4,
  "vscode": {
   "interpreter": {
    "hash": "a3ebcf16c348bf5d9574952e87cd8ff8cf5939ca16141adc6ffb3411f8d32f96"
   }
  }
 },
 "nbformat": 4,
 "nbformat_minor": 2
}
