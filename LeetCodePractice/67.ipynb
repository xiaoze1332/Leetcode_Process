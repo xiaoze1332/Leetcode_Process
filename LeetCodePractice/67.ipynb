{
 "cells": [
  {
   "cell_type": "code",
   "execution_count": 4,
   "metadata": {},
   "outputs": [],
   "source": [
    "a = \"11011\"\n",
    "b = \"101\""
   ]
  },
  {
   "cell_type": "code",
   "execution_count": 5,
   "metadata": {},
   "outputs": [],
   "source": [
    "# 判断a和b的长度，将较短的字符串补0，使得两个字符串长度相等\n",
    "if len(a) > len(b):\n",
    "    b = '0' * (len(a) - len(b)) + b\n",
    "else:\n",
    "    a = '0' * (len(b) - len(a)) + a"
   ]
  },
  {
   "cell_type": "code",
   "execution_count": 8,
   "metadata": {},
   "outputs": [
    {
     "name": "stdout",
     "output_type": "stream",
     "text": [
      "a:11011, b:00101\n"
     ]
    }
   ],
   "source": [
    "print(f'a:{a}, b:{b}')"
   ]
  },
  {
   "cell_type": "code",
   "execution_count": 9,
   "metadata": {},
   "outputs": [
    {
     "name": "stdout",
     "output_type": "stream",
     "text": [
      "100000\n"
     ]
    }
   ],
   "source": [
    "# 从后往前遍历字符串，将两个字符串对应位置的字符相加，如果有进位，则将进位标志位置1\n",
    "carry = 0\n",
    "res = ''\n",
    "for i in range(len(a) - 1, -1, -1):\n",
    "    tmp = int(a[i]) + int(b[i]) + carry\n",
    "    if tmp >= 2:\n",
    "        carry = 1\n",
    "        tmp -= 2\n",
    "    else:\n",
    "        carry = 0\n",
    "    res = str(tmp) + res\n",
    "\n",
    "# 如果最后还有进位，则将进位标志位置1\n",
    "if carry == 1:\n",
    "    res = '1' + res\n",
    "\n",
    "print(res)"
   ]
  },
  {
   "cell_type": "code",
   "execution_count": null,
   "metadata": {},
   "outputs": [],
   "source": []
  }
 ],
 "metadata": {
  "kernelspec": {
   "display_name": "Python 3",
   "language": "python",
   "name": "python3"
  },
  "language_info": {
   "codemirror_mode": {
    "name": "ipython",
    "version": 3
   },
   "file_extension": ".py",
   "mimetype": "text/x-python",
   "name": "python",
   "nbconvert_exporter": "python",
   "pygments_lexer": "ipython3",
   "version": "3.11.1 (tags/v3.11.1:a7a450f, Dec  6 2022, 19:58:39) [MSC v.1934 64 bit (AMD64)]"
  },
  "orig_nbformat": 4,
  "vscode": {
   "interpreter": {
    "hash": "a3ebcf16c348bf5d9574952e87cd8ff8cf5939ca16141adc6ffb3411f8d32f96"
   }
  }
 },
 "nbformat": 4,
 "nbformat_minor": 2
}
