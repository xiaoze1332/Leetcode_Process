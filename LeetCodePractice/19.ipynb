{
 "cells": [
  {
   "cell_type": "code",
   "execution_count": 14,
   "metadata": {},
   "outputs": [],
   "source": [
    "class ListNode:\n",
    "    def __init__(self, val=0, next=None):\n",
    "        self.val = val\n",
    "        self.next = next"
   ]
  },
  {
   "cell_type": "code",
   "execution_count": 15,
   "metadata": {},
   "outputs": [],
   "source": [
    "n = 2\n",
    "\n",
    "# create a linked list with 5 nodes\n",
    "head = ListNode(1)\n",
    "node = head\n",
    "for i in range(2, 6):\n",
    "    node.next = ListNode(i)\n",
    "    node = node.next"
   ]
  },
  {
   "cell_type": "code",
   "execution_count": null,
   "metadata": {},
   "outputs": [],
   "source": [
    "def removeNthFromEnd(head, n):\n",
    "    # create a dummy node\n",
    "    dummy = ListNode(0)\n",
    "    dummy.next = head\n",
    "    # create two pointers\n",
    "    first = dummy\n",
    "    second = dummy\n",
    "    # move first pointer n steps ahead\n",
    "    for i in range(n+1):\n",
    "        first = first.next\n",
    "    # move first and second pointer together\n",
    "    while first:\n",
    "        first = first.next\n",
    "        second = second.next\n",
    "    # remove the nth node\n",
    "    second.next = second.next.next\n",
    "    return dummy.next"
   ]
  }
 ],
 "metadata": {
  "kernelspec": {
   "display_name": "Python 3",
   "language": "python",
   "name": "python3"
  },
  "language_info": {
   "codemirror_mode": {
    "name": "ipython",
    "version": 3
   },
   "file_extension": ".py",
   "mimetype": "text/x-python",
   "name": "python",
   "nbconvert_exporter": "python",
   "pygments_lexer": "ipython3",
   "version": "3.11.1"
  },
  "orig_nbformat": 4,
  "vscode": {
   "interpreter": {
    "hash": "a3ebcf16c348bf5d9574952e87cd8ff8cf5939ca16141adc6ffb3411f8d32f96"
   }
  }
 },
 "nbformat": 4,
 "nbformat_minor": 2
}
