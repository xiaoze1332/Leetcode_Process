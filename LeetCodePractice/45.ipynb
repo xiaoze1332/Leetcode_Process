{
 "cells": [
  {
   "cell_type": "code",
   "execution_count": 1,
   "metadata": {},
   "outputs": [],
   "source": [
    "nums = [2,3,1,1,4]"
   ]
  },
  {
   "cell_type": "code",
   "execution_count": 2,
   "metadata": {},
   "outputs": [
    {
     "data": {
      "text/plain": [
       "2"
      ]
     },
     "execution_count": 2,
     "metadata": {},
     "output_type": "execute_result"
    }
   ],
   "source": [
    "def jump(nums):\n",
    "\n",
    "    if len(nums) == 1:\n",
    "        return 0\n",
    "    \n",
    "    if nums[0] >= len(nums) - 1:\n",
    "        return 1\n",
    "    \n",
    "    if nums[0] == 0:\n",
    "        return -1\n",
    "    \n",
    "    min_step = len(nums)\n",
    "    for i in range(1, nums[0] + 1):\n",
    "        step = jump(nums[i:])\n",
    "        if step != -1:\n",
    "            min_step = min(min_step, step + 1)\n",
    "\n",
    "    if min_step == len(nums):\n",
    "        return -1\n",
    "    else:\n",
    "        return min_step\n",
    "    \n",
    "jump(nums)"
   ]
  },
  {
   "cell_type": "code",
   "execution_count": 3,
   "metadata": {},
   "outputs": [],
   "source": [
    "def jump(nums):\n",
    "    res = 0\n",
    "    cur = 0\n",
    "    pre = 0\n",
    "    for i in range(len(nums)):\n",
    "        if i > pre:\n",
    "            pre = cur\n",
    "            res += 1\n",
    "        cur = max(cur, i + nums[i])\n",
    "    return res"
   ]
  },
  {
   "cell_type": "code",
   "execution_count": 4,
   "metadata": {},
   "outputs": [
    {
     "data": {
      "text/plain": [
       "2"
      ]
     },
     "execution_count": 4,
     "metadata": {},
     "output_type": "execute_result"
    }
   ],
   "source": [
    "jump(nums)"
   ]
  },
  {
   "cell_type": "code",
   "execution_count": null,
   "metadata": {},
   "outputs": [],
   "source": []
  }
 ],
 "metadata": {
  "kernelspec": {
   "display_name": "Python 3",
   "language": "python",
   "name": "python3"
  },
  "language_info": {
   "codemirror_mode": {
    "name": "ipython",
    "version": 3
   },
   "file_extension": ".py",
   "mimetype": "text/x-python",
   "name": "python",
   "nbconvert_exporter": "python",
   "pygments_lexer": "ipython3",
   "version": "3.11.1"
  },
  "orig_nbformat": 4
 },
 "nbformat": 4,
 "nbformat_minor": 2
}
