{
 "cells": [
  {
   "cell_type": "code",
   "execution_count": 5,
   "metadata": {},
   "outputs": [],
   "source": [
    "intervals = [[1,3],[2,6],[8,10],[15,18]]\n",
    "n = len(intervals)"
   ]
  },
  {
   "cell_type": "code",
   "execution_count": 6,
   "metadata": {},
   "outputs": [
    {
     "data": {
      "text/plain": [
       "[[1, 3], [2, 6], [8, 10], [15, 18]]"
      ]
     },
     "execution_count": 6,
     "metadata": {},
     "output_type": "execute_result"
    }
   ],
   "source": [
    "intervals = sorted(intervals, key = lambda x: x[0])\n",
    "intervals"
   ]
  },
  {
   "cell_type": "code",
   "execution_count": 9,
   "metadata": {},
   "outputs": [
    {
     "data": {
      "text/plain": [
       "[[1, 3], [8, 10], [15, 18]]"
      ]
     },
     "execution_count": 9,
     "metadata": {},
     "output_type": "execute_result"
    }
   ],
   "source": [
    "res = [intervals[0]]\n",
    "\n",
    "for i in range(1, n):\n",
    "    if intervals[i][0] > intervals[i-1][1]:\n",
    "        res.append(intervals[i])\n",
    "    elif intervals[i][0] <= intervals[i-1][1]:\n",
    "        intervals[i][1] = intervals[i-1][1]\n",
    "    else:\n",
    "        continue\n",
    "\n",
    "res"
   ]
  },
  {
   "cell_type": "code",
   "execution_count": null,
   "metadata": {},
   "outputs": [],
   "source": [
    "class Solution:\n",
    "    def merge(self, intervals: List[List[int]]) -> List[List[int]]:\n",
    "        intervals = sorted(intervals, key = lambda x: x[0])\n",
    "\n",
    "        res = []\n",
    "\n",
    "        for i in range(1, len(intervals)):\n",
    "            if intervals[i][0] > intervals[i-1][1]:\n",
    "                res.append(intervals[i-1])\n",
    "            elif intervals[i][0] <= intervals[i-1][1]:\n",
    "                intervals[i][1] = intervals[i-1][1]\n",
    "            else:\n",
    "                continue\n",
    "\n",
    "        return res"
   ]
  }
 ],
 "metadata": {
  "kernelspec": {
   "display_name": "Python 3",
   "language": "python",
   "name": "python3"
  },
  "language_info": {
   "codemirror_mode": {
    "name": "ipython",
    "version": 3
   },
   "file_extension": ".py",
   "mimetype": "text/x-python",
   "name": "python",
   "nbconvert_exporter": "python",
   "pygments_lexer": "ipython3",
   "version": "3.11.1"
  },
  "orig_nbformat": 4
 },
 "nbformat": 4,
 "nbformat_minor": 2
}
