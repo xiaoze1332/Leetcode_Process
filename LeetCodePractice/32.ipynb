{
 "cells": [
  {
   "cell_type": "code",
   "execution_count": 1,
   "metadata": {},
   "outputs": [],
   "source": [
    "# 32. Longest Valid Parentheses"
   ]
  },
  {
   "cell_type": "code",
   "execution_count": 1,
   "metadata": {},
   "outputs": [],
   "source": [
    "class Solution:\n",
    "    def longestValidParentheses(self, s: str) -> int:\n",
    "        if len(s) <= 1:\n",
    "            return 0\n",
    "        else:\n",
    "            res = 0\n",
    "            stack = []\n",
    "            start = -1\n",
    "\n",
    "            for i in range(len(s)):\n",
    "                if s[i] == '(':\n",
    "                    stack.append(i)\n",
    "                else:\n",
    "                    if stack:\n",
    "                        stack.pop()\n",
    "                        if stack:\n",
    "                            res = max(res, i - stack[-1])\n",
    "                        else:\n",
    "                            res = max(res, i - start)\n",
    "                    else:\n",
    "                        start = i\n",
    "\n",
    "            return res"
   ]
  },
  {
   "cell_type": "code",
   "execution_count": null,
   "metadata": {},
   "outputs": [],
   "source": []
  }
 ],
 "metadata": {
  "kernelspec": {
   "display_name": "Python 3",
   "language": "python",
   "name": "python3"
  },
  "language_info": {
   "codemirror_mode": {
    "name": "ipython",
    "version": 3
   },
   "file_extension": ".py",
   "mimetype": "text/x-python",
   "name": "python",
   "nbconvert_exporter": "python",
   "pygments_lexer": "ipython3",
   "version": "3.11.1"
  },
  "orig_nbformat": 4
 },
 "nbformat": 4,
 "nbformat_minor": 2
}
