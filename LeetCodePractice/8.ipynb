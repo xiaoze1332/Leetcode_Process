{
 "cells": [
  {
   "cell_type": "code",
   "execution_count": null,
   "metadata": {},
   "outputs": [],
   "source": [
    "class Solution:\n",
    "    def myAtoi(self, s: str) -> int:\n",
    "\n",
    "        # check if s is null or empty\n",
    "        if not s or len(s) == 0:\n",
    "            return 0\n",
    "        \n",
    "        # Remove all the leading whitespaces from the given string (if any)\n",
    "        s = s.lstrip()\n",
    "\n",
    "        # If the string is empty after removing the leading whitespaces, we will return 0.\n",
    "        if len(s) == 0:\n",
    "            return 0\n",
    "\n",
    "        # If the string has - or + character at the start, we will keep it stored in a boolean flag.\n",
    "        if s[0] == '-':\n",
    "            isNegative = True\n",
    "            s = s[1:]\n",
    "        elif s[0] == '+':\n",
    "            isNegative = False\n",
    "            s = s[1:]\n",
    "        else:\n",
    "            isNegative = False\n",
    "\n",
    "        # Now we will iterate over the string and keep adding the digits to the result.\n",
    "        # If we encounter a non-digit character, we will break out of the loop.\n",
    "        result = 0\n",
    "        for i in range(len(s)):\n",
    "            if s[i].isdigit():\n",
    "                result = result * 10 + int(s[i])\n",
    "            else:\n",
    "                break\n",
    "\n",
    "        # If the result is negative, we will multiply it with -1.\n",
    "        if isNegative:\n",
    "            result = result * -1\n",
    "\n",
    "        # If the result is greater than the maximum integer value, we will return the maximum integer value.\n",
    "        if result > 2**31 - 1:\n",
    "            return 2**31 - 1\n",
    "        \n",
    "        # If the result is less than the minimum integer value, we will return the minimum integer value.\n",
    "        if result < -2**31:\n",
    "            return -2**31\n",
    "        \n",
    "        # Otherwise, we will return the result.\n",
    "        return result"
   ]
  }
 ],
 "metadata": {
  "language_info": {
   "name": "python"
  },
  "orig_nbformat": 4
 },
 "nbformat": 4,
 "nbformat_minor": 2
}
