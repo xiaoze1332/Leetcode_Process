{
 "cells": [
  {
   "cell_type": "code",
   "execution_count": 1,
   "metadata": {},
   "outputs": [],
   "source": [
    "num1 = \"123\"\n",
    "num2 = \"456\""
   ]
  },
  {
   "cell_type": "code",
   "execution_count": 2,
   "metadata": {},
   "outputs": [],
   "source": [
    "def multiply(num1, num2):\n",
    "\n",
    "    if num1 == '0' or num2 == '0':\n",
    "        return '0'\n",
    "    \n",
    "    num1 = num1[::-1]\n",
    "    num2 = num2[::-1]\n",
    "\n",
    "    result = [0] * (len(num1) + len(num2))\n",
    "\n",
    "    for i in range(len(num1)):\n",
    "        for j in range(len(num2)):\n",
    "            result[i + j] += int(num1[i]) * int(num2[j])\n",
    "            result[i + j + 1] += result[i + j] // 10\n",
    "            result[i + j] %= 10\n",
    "\n",
    "    # remove leading zeros\n",
    "    while result and result[-1] == 0:\n",
    "        result.pop()\n",
    "\n",
    "    return ''.join(map(str, result[::-1]))"
   ]
  },
  {
   "cell_type": "code",
   "execution_count": null,
   "metadata": {},
   "outputs": [],
   "source": []
  }
 ],
 "metadata": {
  "kernelspec": {
   "display_name": "Python 3",
   "language": "python",
   "name": "python3"
  },
  "language_info": {
   "codemirror_mode": {
    "name": "ipython",
    "version": 3
   },
   "file_extension": ".py",
   "mimetype": "text/x-python",
   "name": "python",
   "nbconvert_exporter": "python",
   "pygments_lexer": "ipython3",
   "version": "3.11.1"
  },
  "orig_nbformat": 4
 },
 "nbformat": 4,
 "nbformat_minor": 2
}
