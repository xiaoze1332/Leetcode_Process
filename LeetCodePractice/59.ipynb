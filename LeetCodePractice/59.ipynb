{
 "cells": [
  {
   "cell_type": "code",
   "execution_count": 12,
   "metadata": {},
   "outputs": [],
   "source": [
    "n = 3"
   ]
  },
  {
   "cell_type": "code",
   "execution_count": 13,
   "metadata": {},
   "outputs": [
    {
     "data": {
      "text/plain": [
       "[[0, 0, 0], [0, 0, 0], [0, 0, 0]]"
      ]
     },
     "execution_count": 13,
     "metadata": {},
     "output_type": "execute_result"
    }
   ],
   "source": [
    "matrix = [[0] * n for _ in range(n)]\n",
    "matrix"
   ]
  },
  {
   "cell_type": "code",
   "execution_count": 14,
   "metadata": {},
   "outputs": [],
   "source": [
    "left, right, top, bottom = 0, n - 1, 0, n - 1\n",
    "num = 1"
   ]
  },
  {
   "cell_type": "code",
   "execution_count": 15,
   "metadata": {},
   "outputs": [
    {
     "data": {
      "text/plain": [
       "[[1, 2, 3], [8, 9, 4], [7, 6, 5]]"
      ]
     },
     "execution_count": 15,
     "metadata": {},
     "output_type": "execute_result"
    }
   ],
   "source": [
    "while left <= right and top <= bottom:\n",
    "\n",
    "    # left to right\n",
    "    for i in range(left, right + 1):\n",
    "        matrix[top][i] = num\n",
    "        num += 1\n",
    "    top += 1\n",
    "    #print(f'from left to right {matrix}')\n",
    "\n",
    "    # top to bottom\n",
    "    for i in range(top, bottom + 1):\n",
    "        matrix[i][right] = num\n",
    "        num += 1\n",
    "    right -= 1\n",
    "    #print(f'from top to bottom {matrix}')\n",
    "\n",
    "    # right to left\n",
    "    for i in range(right, left - 1, -1):\n",
    "        matrix[bottom][i] = num\n",
    "        num += 1\n",
    "    bottom -= 1\n",
    "\n",
    "    # bottom to top\n",
    "    for i in range(bottom, top - 1, -1):\n",
    "        matrix[i][left] = num\n",
    "        num += 1\n",
    "    left += 1\n",
    "\n",
    "matrix\n"
   ]
  },
  {
   "cell_type": "code",
   "execution_count": 16,
   "metadata": {},
   "outputs": [
    {
     "data": {
      "text/plain": [
       "[[1, 2, 3], [8, 9, 4], [7, 6, 5]]"
      ]
     },
     "execution_count": 16,
     "metadata": {},
     "output_type": "execute_result"
    }
   ],
   "source": [
    "matrix"
   ]
  },
  {
   "cell_type": "code",
   "execution_count": null,
   "metadata": {},
   "outputs": [],
   "source": []
  }
 ],
 "metadata": {
  "kernelspec": {
   "display_name": "Python 3",
   "language": "python",
   "name": "python3"
  },
  "language_info": {
   "codemirror_mode": {
    "name": "ipython",
    "version": 3
   },
   "file_extension": ".py",
   "mimetype": "text/x-python",
   "name": "python",
   "nbconvert_exporter": "python",
   "pygments_lexer": "ipython3",
   "version": "3.11.1"
  },
  "orig_nbformat": 4
 },
 "nbformat": 4,
 "nbformat_minor": 2
}
