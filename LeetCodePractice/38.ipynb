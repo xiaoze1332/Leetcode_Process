{
 "cells": [
  {
   "attachments": {},
   "cell_type": "markdown",
   "metadata": {},
   "source": [
    "Here's how the code works:\n",
    "\n",
    "1. We define a recursive function that computes the count-and-say sequence for a given n. The base case is when n is 1, in which case the result is \"1\".\n",
    "2. For n > 1, we recursively compute the count-and-say sequence for n-1.\n",
    "3. We initialize the current sequence and the count of consecutive digits to 0.\n",
    "4. We iterate through the previous sequence and increase the count if the current digit is the same as the previous one.\n",
    "5. If the current digit is different from the previous one, we add the count and digit to the current sequence, and reset the count to 0.\n",
    "6. We return the current sequence.\n",
    "Note that the count-and-say sequence is a sequence of integers where each term is the description of the previous term. For example, the first term is \"1\", the second term is \"11\" (one 1), the third term is \"21\" (two 1's), the fourth term is \"1211\" (one 2 and one 1), and so on. The description of each term is obtained by \"saying\" the digits of the previous term, counting how many times each digit appears consecutively, and concatenating the counts and digits."
   ]
  },
  {
   "cell_type": "code",
   "execution_count": null,
   "metadata": {},
   "outputs": [],
   "source": [
    "class Solution:\n",
    "    def countAndSay(self, n: int) -> str:\n",
    "        # Base case: when n is 1, the result is \"1\"\n",
    "        if n == 1:\n",
    "            return \"1\"\n",
    "        \n",
    "        # Recursively compute the count-and-say sequence for n-1\n",
    "        prev_seq = self.countAndSay(n-1)\n",
    "        \n",
    "        # Initialize the current sequence and the count of consecutive digits\n",
    "        curr_seq = \"\"\n",
    "        count = 0\n",
    "        \n",
    "        # Iterate through the previous sequence\n",
    "        for i in range(len(prev_seq)):\n",
    "            # Increase the count if the current digit is the same as the previous one\n",
    "            count += 1\n",
    "            \n",
    "            # If the current digit is different from the previous one, add the count and digit to the current sequence\n",
    "            if i == len(prev_seq)-1 or prev_seq[i] != prev_seq[i+1]:\n",
    "                curr_seq += str(count) + prev_seq[i]\n",
    "                count = 0\n",
    "        \n",
    "        # Return the current sequence\n",
    "        return curr_seq\n"
   ]
  }
 ],
 "metadata": {
  "language_info": {
   "name": "python"
  },
  "orig_nbformat": 4
 },
 "nbformat": 4,
 "nbformat_minor": 2
}
