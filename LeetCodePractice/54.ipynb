{
 "cells": [
  {
   "cell_type": "code",
   "execution_count": 1,
   "metadata": {},
   "outputs": [],
   "source": [
    "matrix = [[1,2,3],[4,5,6],[7,8,9]]"
   ]
  },
  {
   "cell_type": "code",
   "execution_count": null,
   "metadata": {},
   "outputs": [],
   "source": [
    "def spiralOrder(matrix: list[int]):\n",
    "    if not matrix:\n",
    "        return []\n",
    "    \n",
    "    row_start, row_end = 0, len(matrix) -1\n",
    "    col_start, col_end = 0, len(matrix[0]) - 1\n",
    "\n",
    "    res = []\n",
    "    dis = 0\n",
    "\n",
    "    while row_start < row_end and col_start < col_end:\n",
    "        if dis == 0:\n",
    "            "
   ]
  }
 ],
 "metadata": {
  "kernelspec": {
   "display_name": "Python 3",
   "language": "python",
   "name": "python3"
  },
  "language_info": {
   "codemirror_mode": {
    "name": "ipython",
    "version": 3
   },
   "file_extension": ".py",
   "mimetype": "text/x-python",
   "name": "python",
   "nbconvert_exporter": "python",
   "pygments_lexer": "ipython3",
   "version": "3.11.1"
  },
  "orig_nbformat": 4
 },
 "nbformat": 4,
 "nbformat_minor": 2
}
