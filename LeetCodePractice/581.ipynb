{
 "cells": [
  {
   "cell_type": "code",
   "execution_count": 59,
   "metadata": {},
   "outputs": [],
   "source": [
    "nums = [2,6,4,8,10,9,15]"
   ]
  },
  {
   "cell_type": "code",
   "execution_count": 60,
   "metadata": {},
   "outputs": [],
   "source": [
    "def findUnsortedSubarray(nums):\n",
    "\n",
    "    stack = []\n",
    "    l, r = len(nums), 0\n",
    "\n",
    "    for i in range(len(nums)):\n",
    "        while stack and nums[i] < nums[stack[-1]]:\n",
    "            l = min(stack.pop(), l)\n",
    "            print(l, r, stack)\n",
    "        stack.append(i)\n",
    "        print(l, r, stack)\n",
    "    #print(l, r, stack)\n",
    "\n",
    "    stack = []\n",
    "    for i in range(len(nums)-1, -1, -1):\n",
    "        while stack and nums[i] > nums[stack[-1]]:\n",
    "            r = max(stack.pop(), r)\n",
    "        stack.append(i)\n",
    "    #print(l, r, stack)\n",
    "   \n",
    "    return (r-l+1 if (r-l) > 0 else 0)"
   ]
  },
  {
   "cell_type": "code",
   "execution_count": 61,
   "metadata": {},
   "outputs": [
    {
     "name": "stdout",
     "output_type": "stream",
     "text": [
      "7 0 [0]\n",
      "7 0 [0, 1]\n",
      "1 0 [0]\n",
      "1 0 [0, 2]\n",
      "1 0 [0, 2, 3]\n",
      "1 0 [0, 2, 3, 4]\n",
      "1 0 [0, 2, 3]\n",
      "1 0 [0, 2, 3, 5]\n",
      "1 0 [0, 2, 3, 5, 6]\n"
     ]
    },
    {
     "data": {
      "text/plain": [
       "5"
      ]
     },
     "execution_count": 61,
     "metadata": {},
     "output_type": "execute_result"
    }
   ],
   "source": [
    "findUnsortedSubarray(nums)"
   ]
  },
  {
   "cell_type": "code",
   "execution_count": null,
   "metadata": {},
   "outputs": [],
   "source": []
  }
 ],
 "metadata": {
  "kernelspec": {
   "display_name": "Python 3",
   "language": "python",
   "name": "python3"
  },
  "language_info": {
   "codemirror_mode": {
    "name": "ipython",
    "version": 3
   },
   "file_extension": ".py",
   "mimetype": "text/x-python",
   "name": "python",
   "nbconvert_exporter": "python",
   "pygments_lexer": "ipython3",
   "version": "3.11.1"
  },
  "orig_nbformat": 4,
  "vscode": {
   "interpreter": {
    "hash": "a3ebcf16c348bf5d9574952e87cd8ff8cf5939ca16141adc6ffb3411f8d32f96"
   }
  }
 },
 "nbformat": 4,
 "nbformat_minor": 2
}
