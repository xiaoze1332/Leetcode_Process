{
 "cells": [
  {
   "cell_type": "code",
   "execution_count": 1,
   "metadata": {},
   "outputs": [],
   "source": [
    "#candidates = [10,1,2,7,6,1,5], target = 8\n",
    "#Output: [[1,1,6],[1,2,5],[1,7],[2,6]]\n",
    "#candidates = [2,5,2,1,2], target = 5\n",
    "#Output: [[1,2,2],[5]]\n",
    "#candidates = [2], target = 1\n",
    "#Output: []\n",
    "#candidates = [1], target = 1\n",
    "#Output: [[1]]"
   ]
  },
  {
   "cell_type": "code",
   "execution_count": null,
   "metadata": {},
   "outputs": [],
   "source": [
    "# @lc code=start\n",
    "class Solution:\n",
    "    def combinationSum2(self, candidates: List[int], target: int) -> List[List[int]]:\n",
    "        candidates.sort()\n",
    "        res = []\n",
    "        def dfs(candidates, target, path, res):\n",
    "            if target == 0:\n",
    "                res.append(path)\n",
    "                return\n",
    "            for i in range(len(candidates)):\n",
    "                if candidates[i] > target:\n",
    "                    break\n",
    "                if i > 0 and candidates[i] == candidates[i-1]:\n",
    "                    continue\n",
    "                dfs(candidates[i+1:], target - candidates[i], path + [candidates[i]], res)\n",
    "        dfs(candidates, target, [], res)\n",
    "        return res"
   ]
  }
 ],
 "metadata": {
  "kernelspec": {
   "display_name": "Python 3",
   "language": "python",
   "name": "python3"
  },
  "language_info": {
   "codemirror_mode": {
    "name": "ipython",
    "version": 3
   },
   "file_extension": ".py",
   "mimetype": "text/x-python",
   "name": "python",
   "nbconvert_exporter": "python",
   "pygments_lexer": "ipython3",
   "version": "3.11.1"
  },
  "orig_nbformat": 4
 },
 "nbformat": 4,
 "nbformat_minor": 2
}
