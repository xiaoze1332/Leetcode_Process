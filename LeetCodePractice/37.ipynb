{
 "cells": [
  {
   "attachments": {},
   "cell_type": "markdown",
   "metadata": {},
   "source": [
    "Here's how the code works:\n",
    "\n",
    "We define a isValid function that checks if a given character is valid in a given row, column, and 3x3 sub-box.\n",
    "We define a backtrack function that uses a recursive approach to solve the Sudoku. It first finds the first empty cell, and then tries all possible numbers from 1 to 9. For each number, it checks if it is valid in the current cell using the isValid function. If it is valid, it places the number in the cell and recursively solves the remaining cells. If the solution is found, it returns True. If not, it backtracks and tries the next number. If all numbers are tried and none of them work, it returns False.\n",
    "Finally, we call the backtrack function to solve the Sudoku. The solution is modified in-place in the input board variable."
   ]
  },
  {
   "cell_type": "code",
   "execution_count": null,
   "metadata": {},
   "outputs": [],
   "source": [
    "class Solution:\n",
    "    def solveSudoku(self, board: List[List[str]]) -> None:\n",
    "        \"\"\"\n",
    "        Do not return anything, modify board in-place instead.\n",
    "        \"\"\"\n",
    "        def isValid(row: int, col: int, c: str) -> bool:\n",
    "            # Check if the given character is valid in the given row\n",
    "            for i in range(9):\n",
    "                if board[row][i] == c:\n",
    "                    return False\n",
    "            \n",
    "            # Check if the given character is valid in the given column\n",
    "            for i in range(9):\n",
    "                if board[i][col] == c:\n",
    "                    return False\n",
    "            \n",
    "            # Check if the given character is valid in the given 3x3 sub-box\n",
    "            sub_box_row = (row // 3) * 3\n",
    "            sub_box_col = (col // 3) * 3\n",
    "            for i in range(3):\n",
    "                for j in range(3):\n",
    "                    if board[sub_box_row + i][sub_box_col + j] == c:\n",
    "                        return False\n",
    "            \n",
    "            # If all conditions are satisfied, then the character is valid\n",
    "            return True\n",
    "        \n",
    "        def backtrack() -> bool:\n",
    "            # Find the first empty cell\n",
    "            for i in range(9):\n",
    "                for j in range(9):\n",
    "                    if board[i][j] == '.':\n",
    "                        # Try all possible numbers from 1 to 9\n",
    "                        for c in '123456789':\n",
    "                            if isValid(i, j, c):\n",
    "                                # Place the number in the cell\n",
    "                                board[i][j] = c\n",
    "                                \n",
    "                                # Recursively solve the remaining cells\n",
    "                                if backtrack():\n",
    "                                    return True\n",
    "                                \n",
    "                                # If the solution is not found, backtrack and try the next number\n",
    "                                board[i][j] = '.'\n",
    "                        \n",
    "                        # If all numbers are tried and none of them work, backtrack and try a different number\n",
    "                        return False\n",
    "            \n",
    "            # If there are no more empty cells, the Sudoku is solved\n",
    "            return True\n",
    "        \n",
    "        # Call the backtrack function to solve the Sudoku\n",
    "        backtrack()\n"
   ]
  },
  {
   "cell_type": "markdown",
   "metadata": {},
   "source": []
  }
 ],
 "metadata": {
  "language_info": {
   "name": "python"
  },
  "orig_nbformat": 4
 },
 "nbformat": 4,
 "nbformat_minor": 2
}
