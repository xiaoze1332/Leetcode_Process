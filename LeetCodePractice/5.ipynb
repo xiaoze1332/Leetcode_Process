{
 "cells": [
  {
   "cell_type": "code",
   "execution_count": 12,
   "metadata": {},
   "outputs": [],
   "source": [
    "s = \"babad\"\n",
    "# s = \"cbbd\"\n",
    "# s = \"a\"\n",
    "# s = \"ac\"\n",
    "# s = \"bb\"\n",
    "# s = \"ccc\"\n",
    "# s = \"aaaa\"\n",
    "# s = \"aaaaa\"\n",
    "# s = \"aaaaaa\"\n"
   ]
  },
  {
   "cell_type": "code",
   "execution_count": 13,
   "metadata": {},
   "outputs": [],
   "source": [
    "n = len(s)\n",
    "start, end, longest = 0, 0, 0"
   ]
  },
  {
   "cell_type": "code",
   "execution_count": 14,
   "metadata": {},
   "outputs": [
    {
     "data": {
      "text/plain": [
       "[[0, 0, 0, 0, 0],\n",
       " [0, 0, 0, 0, 0],\n",
       " [0, 0, 0, 0, 0],\n",
       " [0, 0, 0, 0, 0],\n",
       " [0, 0, 0, 0, 0]]"
      ]
     },
     "execution_count": 14,
     "metadata": {},
     "output_type": "execute_result"
    }
   ],
   "source": [
    "res_list = [[0] * n for i in range(n)]\n",
    "res_list"
   ]
  },
  {
   "cell_type": "code",
   "execution_count": 15,
   "metadata": {},
   "outputs": [
    {
     "data": {
      "text/plain": [
       "'bab'"
      ]
     },
     "execution_count": 15,
     "metadata": {},
     "output_type": "execute_result"
    }
   ],
   "source": [
    "for i in range(n):\n",
    "    for j in range(i):\n",
    "        if s[i] == s[j] and (i - j < 3 or res_list[j + 1][i - 1]):\n",
    "            res_list[j][i] = 1\n",
    "            if i - j > longest:\n",
    "                longest = i - j\n",
    "                start, end = j, i\n",
    "\n",
    "s[start:end + 1]"
   ]
  },
  {
   "cell_type": "code",
   "execution_count": 18,
   "metadata": {},
   "outputs": [
    {
     "data": {
      "text/plain": [
       "[[0, 0, 1, 0, 0],\n",
       " [0, 0, 0, 1, 0],\n",
       " [0, 0, 0, 0, 0],\n",
       " [0, 0, 0, 0, 0],\n",
       " [0, 0, 0, 0, 0]]"
      ]
     },
     "execution_count": 18,
     "metadata": {},
     "output_type": "execute_result"
    }
   ],
   "source": [
    "res_list"
   ]
  },
  {
   "cell_type": "code",
   "execution_count": null,
   "metadata": {},
   "outputs": [],
   "source": []
  },
  {
   "cell_type": "code",
   "execution_count": 16,
   "metadata": {},
   "outputs": [],
   "source": [
    "def longestPalindrome(s) -> str:\n",
    "    n = len(s)\n",
    "    start, end, longest = 0, 0, 0\n",
    "\n",
    "    res_list = [[0] * n for i in range(n)]\n",
    "    res_list\n",
    "\n",
    "    for i in range(n):\n",
    "        for j in range(i):\n",
    "            if s[i] == s[j] and (i - j < 3 or res_list[j + 1][i - 1]):\n",
    "                res_list[j][i] = 1\n",
    "                if i - j > longest:\n",
    "                    longest = i - j\n",
    "                    start, end = j, i\n",
    "\n",
    "    return s[start:end + 1]"
   ]
  },
  {
   "cell_type": "code",
   "execution_count": null,
   "metadata": {},
   "outputs": [],
   "source": [
    "def longestPalindrome(s) -> str:\n",
    "    if len(set(s)) == 1:\n",
    "        return s\n",
    "    elif len(s) == 2:\n",
    "        if s[0] == s[1]:\n",
    "            return s\n",
    "        else:\n",
    "            return s[0]\n",
    "    else:\n",
    "        n = len(s)\n",
    "        start, end, longest = 0, 0, 0\n",
    "\n",
    "        res_list = [[0] * n for i in range(n)]\n",
    "        res_list\n",
    "\n",
    "        for i in range(n):\n",
    "            for j in range(i):\n",
    "                if s[i] == s[j] and (i - j < 3 or res_list[j + 1][i - 1]):\n",
    "                    res_list[j][i] = 1\n",
    "                    if i - j > longest:\n",
    "                        longest = i - j\n",
    "                        start, end = j, i\n",
    "\n",
    "        return s[start:end + 1]"
   ]
  },
  {
   "cell_type": "code",
   "execution_count": 17,
   "metadata": {},
   "outputs": [
    {
     "data": {
      "text/plain": [
       "'bab'"
      ]
     },
     "execution_count": 17,
     "metadata": {},
     "output_type": "execute_result"
    }
   ],
   "source": [
    "longestPalindrome(s)"
   ]
  },
  {
   "cell_type": "code",
   "execution_count": null,
   "metadata": {},
   "outputs": [],
   "source": []
  }
 ],
 "metadata": {
  "kernelspec": {
   "display_name": "Python 3",
   "language": "python",
   "name": "python3"
  },
  "language_info": {
   "codemirror_mode": {
    "name": "ipython",
    "version": 3
   },
   "file_extension": ".py",
   "mimetype": "text/x-python",
   "name": "python",
   "nbconvert_exporter": "python",
   "pygments_lexer": "ipython3",
   "version": "3.11.1 (tags/v3.11.1:a7a450f, Dec  6 2022, 19:58:39) [MSC v.1934 64 bit (AMD64)]"
  },
  "orig_nbformat": 4,
  "vscode": {
   "interpreter": {
    "hash": "a3ebcf16c348bf5d9574952e87cd8ff8cf5939ca16141adc6ffb3411f8d32f96"
   }
  }
 },
 "nbformat": 4,
 "nbformat_minor": 2
}
