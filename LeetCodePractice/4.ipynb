{
 "cells": [
  {
   "cell_type": "code",
   "execution_count": 12,
   "metadata": {},
   "outputs": [],
   "source": [
    "# leetcode 4\n",
    "a = [1, 3, 4, 9]\n",
    "b = [1, 2, 3, 4, 5, 6, 7, 8, 9, 10]"
   ]
  },
  {
   "cell_type": "code",
   "execution_count": 13,
   "metadata": {},
   "outputs": [],
   "source": [
    "# find the smaller array in 2 arrays, and use it as the loop\n",
    "if len(a) > len(b):\n",
    "    a, b = b, a\n",
    "else:\n",
    "    pass"
   ]
  },
  {
   "cell_type": "code",
   "execution_count": 14,
   "metadata": {},
   "outputs": [],
   "source": [
    "# length of 2 arrays\n",
    "m, n = len(a), len(b)"
   ]
  },
  {
   "cell_type": "code",
   "execution_count": 15,
   "metadata": {},
   "outputs": [],
   "source": [
    "# Position of binary search\n",
    "start, end = 0, m"
   ]
  },
  {
   "cell_type": "code",
   "execution_count": 16,
   "metadata": {},
   "outputs": [
    {
     "name": "stdout",
     "output_type": "stream",
     "text": [
      "4.5\n"
     ]
    }
   ],
   "source": [
    "# Binary search\n",
    "while start <= end:\n",
    "    position_a = (start + end) // 2\n",
    "    position_b = (m + n + 1) // 2 - position_a\n",
    "    # print(f'position_a: {position_a}, position_b: {position_b}')\n",
    "\n",
    "    # if position_a is 0, it means there is no element on the left side of a\n",
    "    # if position_a is m, it means there is no element on the right side of a\n",
    "    # if position_b is 0, it means there is no element on the left side of b\n",
    "    # if position_b is n, it means there is no element on the right side of b\n",
    "    # if position_a is not 0 and position_b is not n, and a[position_a - 1] > b[position_b], it means the median is on the left side of a\n",
    "    # if position_b is not 0 and position_a is not m, and b[position_b - 1] > a[position_a], it means the median is on the left side of b\n",
    "    if position_a > 0 and position_b < n and a[position_a - 1] > b[position_b]:\n",
    "        end = position_a - 1    \n",
    "    elif position_b > 0 and position_a < m and b[position_b - 1] > a[position_a]:\n",
    "        start = position_a + 1\n",
    "    else:\n",
    "        # if position_a is 0, it means there is no element on the left side of a\n",
    "        # if position_b is 0, it means there is no element on the left side of b\n",
    "        if position_a == 0:\n",
    "            max_of_left = b[position_b - 1]\n",
    "        elif position_b == 0:\n",
    "            max_of_left = a[position_a - 1]\n",
    "        else:\n",
    "            max_of_left = max(a[position_a - 1], b[position_b - 1])\n",
    "        # print(f'max_of_left: {max_of_left}')\n",
    "\n",
    "        # if (m + n) is odd, the median is the max_of_left\n",
    "        if (m + n) % 2 == 1:\n",
    "            print(max_of_left)\n",
    "            break\n",
    "\n",
    "        # if position_a is m, it means there is no element on the right side of a\n",
    "        # if position_b is n, it means there is no element on the right side of b\n",
    "        if position_a == m:\n",
    "            min_of_right = b[position_b]\n",
    "        elif position_b == n:\n",
    "            min_of_right = a[position_a]\n",
    "        else:\n",
    "            min_of_right = min(a[position_a], b[position_b])\n",
    "        # print(f'min_of_right: {min_of_right}')\n",
    "\n",
    "        # if (m + n) is even, the median is the average of max_of_left and min_of_right\n",
    "        if (m + n) % 2 == 0:\n",
    "            print((max_of_left + min_of_right) / 2)\n",
    "            break"
   ]
  },
  {
   "cell_type": "code",
   "execution_count": null,
   "metadata": {},
   "outputs": [],
   "source": [
    "class Solution:\n",
    "    def findMedianSortedArrays(self, nums1: List[int], nums2: List[int]) -> float:\n",
    "        if len(nums1) > len(nums2):\n",
    "            nums1, nums2 = nums2, nums1\n",
    "\n",
    "        m, n = len(nums1), len(nums2)\n",
    "\n",
    "        # Position of binary search\n",
    "        start, end = 0, m\n",
    "\n",
    "        # Binary search\n",
    "        while start <= end:\n",
    "            position_a = (start + end) // 2\n",
    "            position_b = (m + n + 1) // 2 - position_a\n",
    "\n",
    "            # if position_a is 0, it means there is no element on the left side of a\n",
    "            # if position_a is m, it means there is no element on the right side of a\n",
    "            # if position_b is 0, it means there is no element on the left side of b\n",
    "            # if position_b is n, it means there is no element on the right side of b\n",
    "            # if position_a is not 0 and position_b is not n, and a[position_a - 1] > b[position_b], it means the median is on the left side of a\n",
    "            # if position_b is not 0 and position_a is not m, and b[position_b - 1] > a[position_a], it means the median is on the left side of b\n",
    "            if position_a > 0 and position_b < n and nums1[position_a - 1] > nums2[position_b]:\n",
    "                end = position_a - 1    \n",
    "            elif position_b > 0 and position_a < m and nums2[position_b - 1] > nums1[position_a]:\n",
    "                start = position_a + 1\n",
    "            else:\n",
    "                # if position_a is 0, it means there is no element on the left side of a\n",
    "                # if position_b is 0, it means there is no element on the left side of b\n",
    "                if position_a == 0:\n",
    "                    max_of_left = nums2[position_b - 1]\n",
    "                elif position_b == 0:\n",
    "                    max_of_left = nums1[position_a - 1]\n",
    "                else:\n",
    "                    max_of_left = max(nums1[position_a - 1], nums2[position_b - 1])\n",
    "\n",
    "                # if (m + n) is odd, the median is the max_of_left\n",
    "                if (m + n) % 2 == 1:\n",
    "                    return max_of_left\n",
    "\n",
    "                # if position_a is m, it means there is no element on the right side of a\n",
    "                # if position_b is n, it means there is no element on the right side of b\n",
    "                if position_a == m:\n",
    "                    min_of_right = nums2[position_b]\n",
    "                elif position_b == n:\n",
    "                    min_of_right = nums1[position_a]\n",
    "\n",
    "                else:\n",
    "                    min_of_right = min(nums1[position_a], nums2[position_b])\n",
    "\n",
    "                # if (m + n) is even, the median is the average of max_of_left and min_of_right\n",
    "                if (m + n) % 2 == 0:\n",
    "                    return (max_of_left + min_of_right) / 2"
   ]
  },
  {
   "cell_type": "code",
   "execution_count": null,
   "metadata": {},
   "outputs": [],
   "source": [
    "class Solution:\n",
    "    def findMedianSortedArrays(self, nums1: List[int], nums2: List[int]) -> float:\n",
    "        if len(nums1) > len(nums2):\n",
    "            nums1, nums2 = nums2, nums1\n",
    "\n",
    "        m, n = len(nums1), len(nums2)\n",
    "\n",
    "        # Position of binary search\n",
    "        start, end = 0, m\n",
    "\n",
    "        # Binary search\n",
    "        while start <= end:\n",
    "\n",
    "            # position_a is used to find the position of the median in nums1\n",
    "            position_a = (start + end) // 2\n",
    "            position_b = (m + n + 1) // 2 - position_a\n",
    "\n",
    "            # if position_a is 0, it means there is no element on the left side of a\n",
    "            MaxNumLeftA = nums1[position_a - 1] if position_a > 0 else -float('inf')\n",
    "            # if position_a is m, it means there is no element on the right side of a\n",
    "            MinNumRightA = nums1[position_a] if position_a < m else float('inf')\n",
    "\n",
    "            # if position_b is 0, it means there is no element on the left side of b\n",
    "            MaxNumLeftB = nums2[position_b - 1] if position_b > 0 else -float('inf')\n",
    "            # if position_b is n, it means there is no element on the right side of b\n",
    "            MinNumRightB = nums2[position_b] if position_b < n else float('inf')\n",
    "\n",
    "            # if position_a is not 0 and position_b is not n, and a[position_a - 1] > b[position_b], it means the median is on the left side of a\n",
    "            # if position_b is not 0 and position_a is not m, and b[position_b - 1] > a[position_a], it means the median is on the left side of b\n",
    "            if MaxNumLeftA > MinNumRightB:\n",
    "                end = position_a - 1\n",
    "            elif MaxNumLeftB > MinNumRightA:\n",
    "                start = position_a + 1\n",
    "            else:\n",
    "                # if (m + n) is odd, the median is the max_of_left\n",
    "                if (m + n) % 2 == 1:\n",
    "                    return max(MaxNumLeftA, MaxNumLeftB)\n",
    "\n",
    "                # if (m + n) is even, the median is the average of max_of_left and min_of_right\n",
    "                if (m + n) % 2 == 0:\n",
    "                    return (max(MaxNumLeftA, MaxNumLeftB) + min(MinNumRightA, MinNumRightB)) / 2\n"
   ]
  }
 ],
 "metadata": {
  "kernelspec": {
   "display_name": "Python 3",
   "language": "python",
   "name": "python3"
  },
  "language_info": {
   "codemirror_mode": {
    "name": "ipython",
    "version": 3
   },
   "file_extension": ".py",
   "mimetype": "text/x-python",
   "name": "python",
   "nbconvert_exporter": "python",
   "pygments_lexer": "ipython3",
   "version": "3.11.1"
  },
  "orig_nbformat": 4,
  "vscode": {
   "interpreter": {
    "hash": "a3ebcf16c348bf5d9574952e87cd8ff8cf5939ca16141adc6ffb3411f8d32f96"
   }
  }
 },
 "nbformat": 4,
 "nbformat_minor": 2
}
