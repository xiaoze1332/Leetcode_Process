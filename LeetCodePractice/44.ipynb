{
 "cells": [
  {
   "attachments": {},
   "cell_type": "markdown",
   "metadata": {},
   "source": [
    "Solution:\n",
    "To solve this problem, we can use dynamic programming. We will create a 2D boolean array dp where dp[i][j] represents whether the first i characters of string s match the first j characters of pattern p.\n",
    "\n",
    "Here's a step-by-step approach to solving the problem:\n",
    "\n",
    "1. Initialize dp[0][0] to True, since an empty pattern matches an empty string.\n",
    "2. Initialize the first row of dp such that dp[0][j] is True if the first j characters of pattern p are all '*'.\n",
    "3. Iterate through the remaining rows and columns of dp. For each cell dp[i][j], do the following:\n",
    "    a. If p[j-1] is '?' or s[i-1] matches p[j-1], set dp[i][j] to dp[i-1][j-1].\n",
    "    b. If p[j-1] is '*', set dp[i][j] to dp[i-1][j] or dp[i][j-1], since '*' can match any sequence of characters.\n",
    "4. Return dp[-1][-1].\n",
    "Here's the Python code that implements the above solution:\n",
    "\n",
    "python\n"
   ]
  },
  {
   "cell_type": "code",
   "execution_count": null,
   "metadata": {},
   "outputs": [],
   "source": [
    "class Solution:\n",
    "    def isMatch(self, s: str, p: str) -> bool:\n",
    "        m, n = len(s), len(p)\n",
    "        dp = [[False] * (n+1) for _ in range(m+1)]\n",
    "        \n",
    "        # Empty pattern matches empty string\n",
    "        dp[0][0] = True\n",
    "        \n",
    "        # Initialize first row\n",
    "        for j in range(1, n+1):\n",
    "            if p[j-1] == '*':\n",
    "                dp[0][j] = dp[0][j-1]\n",
    "        \n",
    "        # Fill remaining cells\n",
    "        for i in range(1, m+1):\n",
    "            for j in range(1, n+1):\n",
    "                if p[j-1] == '?' or s[i-1] == p[j-1]:\n",
    "                    dp[i][j] = dp[i-1][j-1]\n",
    "                elif p[j-1] == '*':\n",
    "                    dp[i][j] = dp[i-1][j] or dp[i][j-1]\n",
    "        \n",
    "        return dp[-1][-1]\n",
    "\n"
   ]
  }
 ],
 "metadata": {
  "language_info": {
   "name": "python"
  },
  "orig_nbformat": 4
 },
 "nbformat": 4,
 "nbformat_minor": 2
}
