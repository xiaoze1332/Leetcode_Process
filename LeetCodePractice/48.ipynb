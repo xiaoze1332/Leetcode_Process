{
 "cells": [
  {
   "cell_type": "code",
   "execution_count": null,
   "metadata": {},
   "outputs": [],
   "source": [
    "class Solution:\n",
    "    def rotate(self, matrix: List[List[int]]) -> None:\n",
    "        \"\"\"\n",
    "        Do not return anything, modify matrix in-place instead.\n",
    "        \"\"\"\n",
    "\n",
    "        if len(matrix) == 0:\n",
    "            return matrix\n",
    "        \n",
    "        n = len(matrix)\n",
    "        for i in range(n):\n",
    "            for j in range(i, n):\n",
    "                matrix[i][j], matrix[j][i] = matrix[j][i], matrix[i][j]\n",
    "\n",
    "        for i in range(n):\n",
    "            matrix[i].reverse()\n",
    "\n",
    "        return matrix"
   ]
  }
 ],
 "metadata": {
  "language_info": {
   "name": "python"
  },
  "orig_nbformat": 4
 },
 "nbformat": 4,
 "nbformat_minor": 2
}
