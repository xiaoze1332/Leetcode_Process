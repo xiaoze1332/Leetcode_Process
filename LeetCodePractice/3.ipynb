{
 "cells": [
  {
   "cell_type": "code",
   "execution_count": 11,
   "metadata": {},
   "outputs": [],
   "source": [
    "#s  = \"abcabcbb\"\n",
    "s = \"bbbbb\"\n",
    "# s = \"pwwkew\"\n",
    "# s = \" \"\n",
    "# s = \"dvdf\"\n",
    "# s = \"abba\"\n",
    "# s = \"aab\"\n",
    "# s = \"tmmzuxt\"\n",
    "# s = \"ohvhjdml\"\n",
    "# s = \"anviaj\""
   ]
  },
  {
   "cell_type": "code",
   "execution_count": 12,
   "metadata": {},
   "outputs": [],
   "source": [
    "tmp = ''\n",
    "longest = 0"
   ]
  },
  {
   "cell_type": "code",
   "execution_count": 13,
   "metadata": {},
   "outputs": [
    {
     "name": "stdout",
     "output_type": "stream",
     "text": [
      "1\n"
     ]
    }
   ],
   "source": [
    "for i in range(len(s)):\n",
    "    if s[i] not in tmp:\n",
    "        tmp += s[i]\n",
    "    else:\n",
    "        if len(tmp) > longest:\n",
    "            longest = len(tmp)\n",
    "        tmp = tmp[tmp.index(s[i])+1:] + s[i]\n",
    "\n",
    "\n",
    "\n",
    "print(longest)"
   ]
  },
  {
   "cell_type": "code",
   "execution_count": null,
   "metadata": {},
   "outputs": [],
   "source": []
  }
 ],
 "metadata": {
  "kernelspec": {
   "display_name": "Python 3.9.12 ('base')",
   "language": "python",
   "name": "python3"
  },
  "language_info": {
   "codemirror_mode": {
    "name": "ipython",
    "version": 3
   },
   "file_extension": ".py",
   "mimetype": "text/x-python",
   "name": "python",
   "nbconvert_exporter": "python",
   "pygments_lexer": "ipython3",
   "version": "3.9.12"
  },
  "orig_nbformat": 4,
  "vscode": {
   "interpreter": {
    "hash": "ad2bdc8ecc057115af97d19610ffacc2b4e99fae6737bb82f5d7fb13d2f2c186"
   }
  }
 },
 "nbformat": 4,
 "nbformat_minor": 2
}
