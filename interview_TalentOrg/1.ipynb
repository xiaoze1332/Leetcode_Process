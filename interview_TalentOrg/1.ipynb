{
 "cells": [
  {
   "cell_type": "code",
   "execution_count": 30,
   "metadata": {},
   "outputs": [
    {
     "data": {
      "text/plain": [
       "'pomm'"
      ]
     },
     "execution_count": 30,
     "metadata": {},
     "output_type": "execute_result"
    }
   ],
   "source": [
    "strParam = 'mmop'\n",
    "rev_strParam = strParam[::-1]\n",
    "rev_strParam # 'pomm'"
   ]
  },
  {
   "cell_type": "code",
   "execution_count": null,
   "metadata": {},
   "outputs": [],
   "source": [
    "list_str = list(strParam)\n",
    "list_str"
   ]
  },
  {
   "cell_type": "code",
   "execution_count": null,
   "metadata": {},
   "outputs": [],
   "source": [
    "if len(list_str) == len(set(list_str)):\n",
    "    strParam = 'not possible'\n",
    "    return strParam\n"
   ]
  },
  {
   "cell_type": "code",
   "execution_count": null,
   "metadata": {},
   "outputs": [],
   "source": [
    "length = len(list_str)\n",
    "\n",
    "# 判断初始是否为回文数\n",
    "if len(list_str) % 2 == 0:\n",
    "    if list_str[:length//2] == list_str[length//2:][::-1]:\n",
    "        strParam = 'palindrome'\n",
    "        return strParam\n",
    "else:\n",
    "    if list_str[:length//2] == list_str[length//2+1:][::-1]:\n",
    "        strParam = 'palindrome'\n",
    "        return strParam"
   ]
  },
  {
   "cell_type": "code",
   "execution_count": 27,
   "metadata": {},
   "outputs": [
    {
     "name": "stdout",
     "output_type": "stream",
     "text": [
      "('dfg', 3)\n"
     ]
    }
   ],
   "source": [
    "def find_lcsubstr(s1, s2): \n",
    "\tm=[[0 for i in range(len(s2)+1)]  for j in range(len(s1)+1)]  #生成0矩阵，为方便后续计算，比字符串长度多了一列\n",
    "\tmmax=0   #最长匹配的长度\n",
    "\tp=0  #最长匹配对应在s1中的最后一位\n",
    "\tfor i in range(len(s1)):\n",
    "\t\tfor j in range(len(s2)):\n",
    "\t\t\tif s1[i]==s2[j]:\n",
    "\t\t\t\tm[i+1][j+1]=m[i][j]+1\n",
    "\t\t\t\tif m[i+1][j+1]>mmax:\n",
    "\t\t\t\t\tmmax=m[i+1][j+1]\n",
    "\t\t\t\t\tp=i+1\n",
    "\treturn s1[p-mmax:p],mmax   #返回最长子串及其长度\n",
    " \n"
   ]
  },
  {
   "cell_type": "code",
   "execution_count": 36,
   "metadata": {},
   "outputs": [],
   "source": [
    "com_long_sub_str, com_long_sub_str_len = find_lcsubstr(strParam, rev_strParam)"
   ]
  },
  {
   "cell_type": "code",
   "execution_count": 37,
   "metadata": {},
   "outputs": [
    {
     "name": "stdout",
     "output_type": "stream",
     "text": [
      "('mm', 2)\n"
     ]
    }
   ],
   "source": [
    "print(find_lcsubstr(strParam,rev_strParam))"
   ]
  },
  {
   "cell_type": "code",
   "execution_count": 38,
   "metadata": {},
   "outputs": [],
   "source": [
    "str1 = rev_strParam # 'pomm'\n",
    "str2 = com_long_sub_str # 'mm'"
   ]
  },
  {
   "cell_type": "code",
   "execution_count": 51,
   "metadata": {},
   "outputs": [
    {
     "data": {
      "text/plain": [
       "1"
      ]
     },
     "execution_count": 51,
     "metadata": {},
     "output_type": "execute_result"
    }
   ],
   "source": []
  },
  {
   "cell_type": "code",
   "execution_count": 40,
   "metadata": {},
   "outputs": [],
   "source": [
    "list_str1 = list(str1) # ['p', 'o', 'm', 'm']\n",
    "list_str2 = list(str2) # ['m', 'm']"
   ]
  },
  {
   "cell_type": "code",
   "execution_count": 44,
   "metadata": {},
   "outputs": [
    {
     "data": {
      "text/plain": [
       "['p', 'o']"
      ]
     },
     "execution_count": 44,
     "metadata": {},
     "output_type": "execute_result"
    }
   ],
   "source": [
    "ret = [ i for i in list_str1 if i not in list_str2 ]\n",
    "ret # ['p', 'o']"
   ]
  },
  {
   "cell_type": "code",
   "execution_count": 49,
   "metadata": {},
   "outputs": [
    {
     "data": {
      "text/plain": [
       "'op'"
      ]
     },
     "execution_count": 49,
     "metadata": {},
     "output_type": "execute_result"
    }
   ],
   "source": [
    "strParam = ''.join(ret)\n",
    "strParam = strParam[::-1]\n",
    "strParam"
   ]
  },
  {
   "cell_type": "code",
   "execution_count": null,
   "metadata": {},
   "outputs": [],
   "source": []
  }
 ],
 "metadata": {
  "kernelspec": {
   "display_name": "Python 3.9.12 ('base')",
   "language": "python",
   "name": "python3"
  },
  "language_info": {
   "codemirror_mode": {
    "name": "ipython",
    "version": 3
   },
   "file_extension": ".py",
   "mimetype": "text/x-python",
   "name": "python",
   "nbconvert_exporter": "python",
   "pygments_lexer": "ipython3",
   "version": "3.9.12"
  },
  "orig_nbformat": 4,
  "vscode": {
   "interpreter": {
    "hash": "ad2bdc8ecc057115af97d19610ffacc2b4e99fae6737bb82f5d7fb13d2f2c186"
   }
  }
 },
 "nbformat": 4,
 "nbformat_minor": 2
}
