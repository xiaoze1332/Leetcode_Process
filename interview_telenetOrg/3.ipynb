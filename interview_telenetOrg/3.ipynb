{
 "cells": [
  {
   "cell_type": "code",
   "execution_count": 28,
   "metadata": {},
   "outputs": [],
   "source": [
    "#a = ['5', '2', 'C', 'D', '+']\n",
    "a = ['5', '-2', '4', 'C', 'D', '9', '+', '+']"
   ]
  },
  {
   "cell_type": "code",
   "execution_count": 29,
   "metadata": {},
   "outputs": [],
   "source": [
    "res = []"
   ]
  },
  {
   "cell_type": "code",
   "execution_count": 30,
   "metadata": {},
   "outputs": [
    {
     "name": "stdout",
     "output_type": "stream",
     "text": [
      "27\n"
     ]
    }
   ],
   "source": [
    "for i, char in enumerate(a):\n",
    "    if char.isdigit():\n",
    "        tmp = int(char)\n",
    "        res.append(tmp)\n",
    "    elif  (char.startswith('-') and char[1:] or char).isdigit():\n",
    "        tmp = int(char)\n",
    "        res.append(tmp)\n",
    "    elif char == 'C':\n",
    "        res.pop()\n",
    "    elif char == 'D':\n",
    "        res.append(res[-1]*2)\n",
    "    elif char == '+':\n",
    "        res.append(res[-1] + res[-2])\n",
    "\n",
    "res\n",
    "print(sum(res))"
   ]
  },
  {
   "cell_type": "code",
   "execution_count": 31,
   "metadata": {},
   "outputs": [
    {
     "data": {
      "text/plain": [
       "-5"
      ]
     },
     "execution_count": 31,
     "metadata": {},
     "output_type": "execute_result"
    }
   ],
   "source": [
    "int(-5)"
   ]
  },
  {
   "cell_type": "code",
   "execution_count": 32,
   "metadata": {},
   "outputs": [
    {
     "data": {
      "text/plain": [
       "\"def solution(a):\\n  # Write your answer\\n\\n    res = []\\n\\n    for i, char in enumerate(a):\\n        if char.isdigit():\\n            tmp = int(char)\\n            res.append(tmp)\\n        if char == 'C':\\n            res.pop()\\n        if char == 'D':\\n            res.append(res[-1]*2)\\n        if char == 'S':\\n            res.append(res[-1] + res[-2])\\n\\n    return sum(res)\""
      ]
     },
     "execution_count": 32,
     "metadata": {},
     "output_type": "execute_result"
    }
   ],
   "source": [
    "def solution(a):\n",
    "  # Write your answer\n",
    "\n",
    "    res = []\n",
    "\n",
    "    for i, char in enumerate(a):\n",
    "        if char.isdigit():\n",
    "            tmp = int(char)\n",
    "            res.append(tmp)\n",
    "        elif  (char.startswith('-') and char[1:] or char).isdigit():\n",
    "            tmp = int(char)\n",
    "            res.append(tmp)\n",
    "        elif char == 'C':\n",
    "            res.pop()\n",
    "        elif char == 'D':\n",
    "            res.append(res[-1]*2)\n",
    "        elif char == '+':\n",
    "            res.append(res[-1] + res[-2])\n",
    "\n",
    "    return sum(res)"
   ]
  }
 ],
 "metadata": {
  "kernelspec": {
   "display_name": "Python 3.9.12 ('base')",
   "language": "python",
   "name": "python3"
  },
  "language_info": {
   "codemirror_mode": {
    "name": "ipython",
    "version": 3
   },
   "file_extension": ".py",
   "mimetype": "text/x-python",
   "name": "python",
   "nbconvert_exporter": "python",
   "pygments_lexer": "ipython3",
   "version": "3.9.12"
  },
  "orig_nbformat": 4,
  "vscode": {
   "interpreter": {
    "hash": "ad2bdc8ecc057115af97d19610ffacc2b4e99fae6737bb82f5d7fb13d2f2c186"
   }
  }
 },
 "nbformat": 4,
 "nbformat_minor": 2
}
