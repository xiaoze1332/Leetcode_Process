{
 "cells": [
  {
   "cell_type": "code",
   "execution_count": 62,
   "metadata": {},
   "outputs": [],
   "source": [
    "#a = [2,1,1,3,2,1,1,3]\n",
    "#a = [7,5,2,7,2,7,4,7]\n",
    "#a = [2,1,2]\n",
    "a = [2, 2, 2]\n",
    "#a = [7,3,7,3,1,3,4,1]"
   ]
  },
  {
   "cell_type": "code",
   "execution_count": 63,
   "metadata": {},
   "outputs": [
    {
     "data": {
      "text/plain": [
       "{2}"
      ]
     },
     "execution_count": 63,
     "metadata": {},
     "output_type": "execute_result"
    }
   ],
   "source": [
    "stack = []\n",
    "a_set = set(a)\n",
    "\n",
    "res_list = []\n",
    "\n",
    "a_set"
   ]
  },
  {
   "cell_type": "code",
   "execution_count": 64,
   "metadata": {},
   "outputs": [],
   "source": [
    "for i in range(len(a)):\n",
    "    if a[i] not in stack:\n",
    "        stack.append(a[i])\n",
    "    for j in range(i+1, len(a)):\n",
    "        if a[j] not in stack:\n",
    "            stack.append(a[j])\n",
    "        if len(stack) == len(a_set):\n",
    "            res_list.append(j-i+1)\n",
    "            stack = []\n",
    "            break"
   ]
  },
  {
   "cell_type": "code",
   "execution_count": 65,
   "metadata": {},
   "outputs": [
    {
     "data": {
      "text/plain": [
       "2"
      ]
     },
     "execution_count": 65,
     "metadata": {},
     "output_type": "execute_result"
    }
   ],
   "source": [
    "sorted(res_list)[0]"
   ]
  },
  {
   "cell_type": "code",
   "execution_count": 66,
   "metadata": {},
   "outputs": [
    {
     "data": {
      "text/plain": [
       "'def solution(a):\\n\\n    stack = []\\n    a_set = set(a)\\n\\n    res_list = []\\n\\n    for i in range(len(a)):\\n        if a[i] not in stack:\\n            stack.append(a[i])\\n        for j in range(i+1, len(a)):\\n            if a[j] not in stack:\\n                stack.append(a[j])\\n            if len(stack) == len(a_set):\\n                res_list.append(j-i+1)\\n                stack = []\\n                break\\n    \\n    return min(res_list)'"
      ]
     },
     "execution_count": 66,
     "metadata": {},
     "output_type": "execute_result"
    }
   ],
   "source": [
    "'''def solution(a):\n",
    "\n",
    "    stack = []\n",
    "    a_set = set(a)\n",
    "\n",
    "    res_list = []\n",
    "\n",
    "    for i in range(len(a)):\n",
    "        if a[i] not in stack:\n",
    "            stack.append(a[i])\n",
    "        for j in range(i+1, len(a)):\n",
    "            if a[j] not in stack:\n",
    "                stack.append(a[j])\n",
    "            if len(stack) == len(a_set):\n",
    "                res_list.append(j-i+1)\n",
    "                stack = []\n",
    "                break\n",
    "    \n",
    "    return min(res_list)'''"
   ]
  },
  {
   "cell_type": "code",
   "execution_count": null,
   "metadata": {},
   "outputs": [],
   "source": []
  }
 ],
 "metadata": {
  "kernelspec": {
   "display_name": "Python 3.9.12 ('base')",
   "language": "python",
   "name": "python3"
  },
  "language_info": {
   "codemirror_mode": {
    "name": "ipython",
    "version": 3
   },
   "file_extension": ".py",
   "mimetype": "text/x-python",
   "name": "python",
   "nbconvert_exporter": "python",
   "pygments_lexer": "ipython3",
   "version": "3.9.12"
  },
  "orig_nbformat": 4,
  "vscode": {
   "interpreter": {
    "hash": "ad2bdc8ecc057115af97d19610ffacc2b4e99fae6737bb82f5d7fb13d2f2c186"
   }
  }
 },
 "nbformat": 4,
 "nbformat_minor": 2
}
