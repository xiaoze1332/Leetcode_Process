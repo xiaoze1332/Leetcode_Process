{
 "cells": [
  {
   "cell_type": "code",
   "execution_count": 72,
   "metadata": {},
   "outputs": [],
   "source": [
    "n = ['test1', 'name2a', 'name2b', 'haha3a', 'haha3b', 'haha3c', 'jack4a', 'jack4b']\n",
    "# n = ['test1', 'name2a', 'name2b', 'haha3a', 'haha3b', 'haha3c', 'jack4a', 'jack4b', 'jack4c', 'jack4d', 'jack4e', 'jack4f', 'jack4g', 'jack4h', 'jack4i', 'jack4j', 'jack4k', 'jack4l', 'jack4m', 'jack4n', 'jack4o', 'jack4p', 'jack4q', 'jack4r', 'jack4s', 'jack4t', 'jack4u', 'jack4v', 'jack4w', 'jack4x', 'jack4y', 'jack4z', 'jack4aa', 'jack4bb', 'jack4cc', 'jack4dd', 'jack4ee', 'jack4ff', 'jack4gg', 'jack4hh', 'jack4ii', 'jack4jj', 'jack4kk', 'jack4ll', 'jack4mm', 'jack4nn', 'jack4oo', 'jack4pp', 'jack4qq', 'jack4rr', 'jack4ss', 'jack4tt', 'jack4uu', 'jack4vv', 'jack4ww', 'jack4xx', 'jack4yy', 'jack4zz', 'jack4aaa', 'jack4bbb', 'jack4ccc', 'jack4ddd', 'jack4eee', 'jack4fff', 'jack4ggg', 'jack4hhh', 'jack4iii', 'jack4jjj', 'jack4kkk', 'jack4lll', 'jack4mmm', 'jack4nnn', 'jack4ooo', 'jack4ppp', 'jack4qqq', 'jack4rrr', 'jack4sss', 'jack4ttt', 'jack4uuu', 'jack4vvv', 'jack4www', 'jack4xxx', 'jack4yyy', 'jack4zzz', 'jack4aaaa', 'jack4bbbb', 'jack4cccc', 'jack4dddd', 'jack4eeee', 'jack4ffff', 'jack4gggg', 'jack4hhhh', 'jack4iiii', 'jack4jjjj', 'jack4kkkk', 'jack\n",
    "\n",
    "r = ['passed', 'failed', 'passed', 'passed', 'passed', 'passed', 'timeout', 'failed']"
   ]
  },
  {
   "cell_type": "code",
   "execution_count": 73,
   "metadata": {},
   "outputs": [
    {
     "data": {
      "text/plain": [
       "{'test1': 'passed',\n",
       " 'name2a': 'failed',\n",
       " 'name2b': 'passed',\n",
       " 'haha3a': 'passed',\n",
       " 'haha3b': 'passed',\n",
       " 'haha3c': 'passed',\n",
       " 'jack4a': 'timeout',\n",
       " 'jack4b': 'failed'}"
      ]
     },
     "execution_count": 73,
     "metadata": {},
     "output_type": "execute_result"
    }
   ],
   "source": [
    "new_dict = dict(zip(n, r))\n",
    "new_dict"
   ]
  },
  {
   "cell_type": "code",
   "execution_count": 74,
   "metadata": {},
   "outputs": [],
   "source": [
    "# 存储目前的值\n",
    "task_name = ''\n",
    "group_num = ''\n",
    "\n",
    "# 存储之前的值\n",
    "tmp_task_name = ''\n",
    "tmp_group_num = ''\n",
    "\n",
    "group_list = []\n",
    "res_list = []"
   ]
  },
  {
   "cell_type": "code",
   "execution_count": 75,
   "metadata": {},
   "outputs": [
    {
     "data": {
      "text/plain": [
       "[[['test', '1', 'passed']],\n",
       " [['name', '2a', 'failed']],\n",
       " [['name', '2b', 'passed']],\n",
       " [['haha', '3a', 'passed']],\n",
       " [['haha', '3b', 'passed']],\n",
       " [['haha', '3c', 'passed']],\n",
       " [['jack', '4a', 'timeout']],\n",
       " [['jack', '4b', 'failed']]]"
      ]
     },
     "execution_count": 75,
     "metadata": {},
     "output_type": "execute_result"
    }
   ],
   "source": [
    "for i,k in enumerate(new_dict):\n",
    "    for j, char in enumerate(k):\n",
    "        if char.isdigit():\n",
    "            \n",
    "            tmp_group_num = group_num\n",
    "            tmp_task_name = task_name\n",
    "            \n",
    "            group_num = k[j:]\n",
    "            task_name = k[:j]\n",
    "            \n",
    "            break\n",
    "            \n",
    "    group_list.append([task_name, group_num, new_dict[k]])\n",
    "\n",
    "    if tmp_group_num != group_num:\n",
    "        res_list.append(group_list)\n",
    "        group_list = []\n",
    "\n",
    "res_list\n"
   ]
  },
  {
   "cell_type": "code",
   "execution_count": 76,
   "metadata": {},
   "outputs": [
    {
     "data": {
      "text/plain": [
       "[['test', '1', 'passed'],\n",
       " ['name', '2a', 'failed'],\n",
       " ['name', '2b', 'passed'],\n",
       " ['haha', '3a', 'passed'],\n",
       " ['haha', '3b', 'passed'],\n",
       " ['haha', '3c', 'passed'],\n",
       " ['jack', '4a', 'timeout'],\n",
       " ['jack', '4b', 'failed']]"
      ]
     },
     "execution_count": 76,
     "metadata": {},
     "output_type": "execute_result"
    }
   ],
   "source": [
    "tmp_list = []\n",
    "\n",
    "for i in res_list:\n",
    "    tmp_list.append(i[0])\n",
    "\n",
    "res_list = tmp_list\n",
    "res_list"
   ]
  },
  {
   "cell_type": "code",
   "execution_count": 77,
   "metadata": {},
   "outputs": [],
   "source": [
    "tmp_task_name = ''\n",
    "tmp_group_num = ''\n",
    "count_total = 0\n",
    "count_passed = 0\n",
    "group_pass = 0\n",
    "\n",
    "for i in res_list:\n",
    "    if i[0] != tmp_task_name:\n",
    "        task_name = i[0]\n",
    "        tmp_task_name = i[0]\n",
    "        if count_total == count_passed and count_total != 0:\n",
    "            group_pass += 1\n",
    "            count_total = 0\n",
    "            count_passed = 0\n",
    "        else:\n",
    "            count_total = 0\n",
    "            count_passed = 0\n",
    "\n",
    "    \n",
    "    if i[-1] == 'passed':\n",
    "        count_passed += 1\n",
    "        count_total += 1\n",
    "    else:\n",
    "        count_total += 1\n"
   ]
  },
  {
   "cell_type": "code",
   "execution_count": 78,
   "metadata": {},
   "outputs": [
    {
     "data": {
      "text/plain": [
       "2"
      ]
     },
     "execution_count": 78,
     "metadata": {},
     "output_type": "execute_result"
    }
   ],
   "source": [
    "group_pass"
   ]
  },
  {
   "cell_type": "code",
   "execution_count": 79,
   "metadata": {},
   "outputs": [
    {
     "data": {
      "text/plain": [
       "4"
      ]
     },
     "execution_count": 79,
     "metadata": {},
     "output_type": "execute_result"
    }
   ],
   "source": [
    "\n",
    "count_list = []\n",
    "\n",
    "for i in res_list:\n",
    "    count_list.append(i[0])\n",
    "\n",
    "group_len = len(set(count_list))\n",
    "group_len"
   ]
  },
  {
   "cell_type": "code",
   "execution_count": 80,
   "metadata": {},
   "outputs": [
    {
     "data": {
      "text/plain": [
       "0.5"
      ]
     },
     "execution_count": 80,
     "metadata": {},
     "output_type": "execute_result"
    }
   ],
   "source": [
    "group_pass / group_len"
   ]
  },
  {
   "cell_type": "code",
   "execution_count": null,
   "metadata": {},
   "outputs": [],
   "source": []
  }
 ],
 "metadata": {
  "kernelspec": {
   "display_name": "Python 3.9.12 ('base')",
   "language": "python",
   "name": "python3"
  },
  "language_info": {
   "codemirror_mode": {
    "name": "ipython",
    "version": 3
   },
   "file_extension": ".py",
   "mimetype": "text/x-python",
   "name": "python",
   "nbconvert_exporter": "python",
   "pygments_lexer": "ipython3",
   "version": "3.9.12"
  },
  "orig_nbformat": 4,
  "vscode": {
   "interpreter": {
    "hash": "ad2bdc8ecc057115af97d19610ffacc2b4e99fae6737bb82f5d7fb13d2f2c186"
   }
  }
 },
 "nbformat": 4,
 "nbformat_minor": 2
}
