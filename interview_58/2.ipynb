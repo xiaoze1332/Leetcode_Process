{
 "cells": [
  {
   "cell_type": "code",
   "execution_count": 38,
   "metadata": {},
   "outputs": [],
   "source": [
    "a = ['化妆品导购:51,奶茶店员:70,医药连锁:27,夜班8小时店员:38,店员:97,促销:108,珠宝导购:16,天街招聘:8,店员营业员:112,督导:25']"
   ]
  },
  {
   "cell_type": "code",
   "execution_count": 39,
   "metadata": {},
   "outputs": [
    {
     "data": {
      "text/plain": [
       "['化妆品导购:51',\n",
       " '奶茶店员:70',\n",
       " '医药连锁:27',\n",
       " '夜班8小时店员:38',\n",
       " '店员:97',\n",
       " '促销:108',\n",
       " '珠宝导购:16',\n",
       " '天街招聘:8',\n",
       " '店员营业员:112',\n",
       " '督导:25']"
      ]
     },
     "execution_count": 39,
     "metadata": {},
     "output_type": "execute_result"
    }
   ],
   "source": [
    "a = a[0].split(',')\n",
    "a"
   ]
  },
  {
   "cell_type": "code",
   "execution_count": 40,
   "metadata": {},
   "outputs": [],
   "source": [
    "new_dict = {}"
   ]
  },
  {
   "cell_type": "code",
   "execution_count": 41,
   "metadata": {},
   "outputs": [
    {
     "data": {
      "text/plain": [
       "{'化妆品导购': 51,\n",
       " '奶茶店员': 70,\n",
       " '医药连锁': 27,\n",
       " '夜班8小时店员': 38,\n",
       " '店员': 97,\n",
       " '促销': 108,\n",
       " '珠宝导购': 16,\n",
       " '天街招聘': 8,\n",
       " '店员营业员': 112,\n",
       " '督导': 25}"
      ]
     },
     "execution_count": 41,
     "metadata": {},
     "output_type": "execute_result"
    }
   ],
   "source": [
    "for i in a:\n",
    "    new_dict[i.split(':')[0]] = int(i.split(':')[1])\n",
    "\n",
    "new_dict"
   ]
  },
  {
   "cell_type": "code",
   "execution_count": 42,
   "metadata": {},
   "outputs": [
    {
     "data": {
      "text/plain": [
       "[('店员营业员', 112),\n",
       " ('促销', 108),\n",
       " ('店员', 97),\n",
       " ('奶茶店员', 70),\n",
       " ('化妆品导购', 51),\n",
       " ('夜班8小时店员', 38),\n",
       " ('医药连锁', 27),\n",
       " ('督导', 25),\n",
       " ('珠宝导购', 16),\n",
       " ('天街招聘', 8)]"
      ]
     },
     "execution_count": 42,
     "metadata": {},
     "output_type": "execute_result"
    }
   ],
   "source": [
    "new_dict_b = sorted(new_dict.items(), key=lambda x: (x[1], x[0]), reverse=True)\n",
    "new_dict_b"
   ]
  },
  {
   "cell_type": "code",
   "execution_count": 43,
   "metadata": {},
   "outputs": [
    {
     "data": {
      "text/plain": [
       "[('店员营业员', 112), ('促销', 108), ('店员', 97), ('奶茶店员', 70), ('化妆品导购', 51)]"
      ]
     },
     "execution_count": 43,
     "metadata": {},
     "output_type": "execute_result"
    }
   ],
   "source": [
    "new_dict_b = new_dict_b[0:5]\n",
    "new_dict_b"
   ]
  },
  {
   "cell_type": "code",
   "execution_count": 44,
   "metadata": {},
   "outputs": [
    {
     "name": "stdout",
     "output_type": "stream",
     "text": [
      "店员营业员 : 112\n",
      "促销 : 108\n",
      "店员 : 97\n",
      "奶茶店员 : 70\n",
      "化妆品导购 : 51\n"
     ]
    }
   ],
   "source": [
    "for key, value in new_dict_b:\n",
    "    print(key, ':', value)"
   ]
  }
 ],
 "metadata": {
  "kernelspec": {
   "display_name": "Python 3.9.12 ('base')",
   "language": "python",
   "name": "python3"
  },
  "language_info": {
   "codemirror_mode": {
    "name": "ipython",
    "version": 3
   },
   "file_extension": ".py",
   "mimetype": "text/x-python",
   "name": "python",
   "nbconvert_exporter": "python",
   "pygments_lexer": "ipython3",
   "version": "3.9.12"
  },
  "orig_nbformat": 4,
  "vscode": {
   "interpreter": {
    "hash": "ad2bdc8ecc057115af97d19610ffacc2b4e99fae6737bb82f5d7fb13d2f2c186"
   }
  }
 },
 "nbformat": 4,
 "nbformat_minor": 2
}
